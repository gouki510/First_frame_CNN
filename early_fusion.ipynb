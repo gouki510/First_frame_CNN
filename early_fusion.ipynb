{
  "nbformat": 4,
  "nbformat_minor": 0,
  "metadata": {
    "colab": {
      "name": "early_fusion.ipynb",
      "provenance": []
    },
    "kernelspec": {
      "name": "python3",
      "display_name": "Python 3"
    },
    "language_info": {
      "name": "python"
    },
    "accelerator": "GPU"
  },
  "cells": [
    {
      "cell_type": "code",
      "metadata": {
        "colab": {
          "base_uri": "https://localhost:8080/"
        },
        "id": "UlJ8Sb648xUu",
        "outputId": "c0c542ec-d14c-40e6-eab9-154805dcfeb2"
      },
      "source": [
        "from google.colab import drive\n",
        "drive.mount('/content/drive')"
      ],
      "execution_count": null,
      "outputs": [
        {
          "output_type": "stream",
          "text": [
            "Drive already mounted at /content/drive; to attempt to forcibly remount, call drive.mount(\"/content/drive\", force_remount=True).\n"
          ],
          "name": "stdout"
        }
      ]
    },
    {
      "cell_type": "code",
      "metadata": {
        "id": "LOv6EEGZ888A"
      },
      "source": [
        "import os\n",
        "import glob\n",
        "import re \n",
        "import pandas as pd\n",
        "from PIL import Image\n",
        "from torch.utils.data import Dataset\n",
        "import pandas as pd\n",
        "import os\n",
        "import torch\n",
        "import torchvision.transforms as transforms\n",
        "from torchvision import models\n",
        "import numpy as np\n",
        "import torch.nn as nn\n",
        "import torch.optim as optim\n",
        "import torchvision\n",
        "from sklearn.metrics import classification_report\n",
        "from sklearn import preprocessing\n",
        "import datetime\n",
        "import sklearn\n",
        "import torch.nn.functional as F\n",
        "import torchvision.transforms.functional as TF"
      ],
      "execution_count": null,
      "outputs": []
    },
    {
      "cell_type": "markdown",
      "metadata": {
        "id": "5wpmZ5WsFHc4"
      },
      "source": [
        "# Data load\n",
        "(224,224,16)のnumpy配列"
      ]
    },
    {
      "cell_type": "code",
      "metadata": {
        "colab": {
          "base_uri": "https://localhost:8080/"
        },
        "id": "cd9LH4gG9TJj",
        "outputId": "4dcf9ff4-baef-4c34-e620-3fae7244aee3"
      },
      "source": [
        "#train data\n",
        "cates_train = glob.glob(\"drive/MyDrive/sprit_data_fusion2/train/*\")\n",
        "print(cates_train)\n",
        "all_data_train = []\n",
        "\n",
        "data_train = []\n",
        "cl_train = []\n",
        "for cat in cates_train:\n",
        "  name = glob.glob(cat + \"/*\")\n",
        "  print(len(name))\n",
        "  print(cat)\n",
        "  for i in range(0, len(name)):\n",
        "    filename = name[i]\n",
        "    temp = np.load(filename)\n",
        "    cl_train.append(temp)\n",
        "    all_data_train.append(temp)\n",
        "  data_train.append(cl_train)\n",
        "  cl_train = []\n",
        "print(type(np.array(all_data_train)))\n",
        "\n",
        "#test data\n",
        "cates_test = glob.glob(\"drive/MyDrive/sprit_data_fusion2/validation/*\")\n",
        "print(cates_test)\n",
        "all_data_test = []\n",
        "\n",
        "data_test = []\n",
        "cl_test = []\n",
        "for cat in cates_test:\n",
        "  name = glob.glob(cat + \"/*\")\n",
        "  print(len(name))\n",
        "  print(cat)\n",
        "  for i in range(0, len(name)):\n",
        "    filename = name[i]\n",
        "    temp = np.load(filename)\n",
        "    cl_test.append(temp)\n",
        "    all_data_test.append(temp)\n",
        "  data_test.append(cl_test)\n",
        "  cl_test = []\n",
        "print(type(np.array(all_data_test)))"
      ],
      "execution_count": null,
      "outputs": [
        {
          "output_type": "stream",
          "text": [
            "['drive/MyDrive/sprit_data_fusion2/train/brush_hair', 'drive/MyDrive/sprit_data_fusion2/train/run', 'drive/MyDrive/sprit_data_fusion2/train/clap', 'drive/MyDrive/sprit_data_fusion2/train/smoke']\n",
            "76\n",
            "drive/MyDrive/sprit_data_fusion2/train/brush_hair\n",
            "176\n",
            "drive/MyDrive/sprit_data_fusion2/train/run\n",
            "97\n",
            "drive/MyDrive/sprit_data_fusion2/train/clap\n",
            "87\n",
            "drive/MyDrive/sprit_data_fusion2/train/smoke\n",
            "<class 'numpy.ndarray'>\n",
            "['drive/MyDrive/sprit_data_fusion2/validation/brush_hair', 'drive/MyDrive/sprit_data_fusion2/validation/run', 'drive/MyDrive/sprit_data_fusion2/validation/smoke', 'drive/MyDrive/sprit_data_fusion2/validation/clap']\n",
            "20\n",
            "drive/MyDrive/sprit_data_fusion2/validation/brush_hair\n",
            "45\n",
            "drive/MyDrive/sprit_data_fusion2/validation/run\n",
            "22\n",
            "drive/MyDrive/sprit_data_fusion2/validation/smoke\n",
            "24\n",
            "drive/MyDrive/sprit_data_fusion2/validation/clap\n",
            "<class 'numpy.ndarray'>\n"
          ],
          "name": "stdout"
        }
      ]
    },
    {
      "cell_type": "markdown",
      "metadata": {
        "id": "aV7VFjgiFbQW"
      },
      "source": [
        "# ラベルの作成"
      ]
    },
    {
      "cell_type": "code",
      "metadata": {
        "colab": {
          "base_uri": "https://localhost:8080/"
        },
        "id": "TMYGxcNABdIS",
        "outputId": "a71f0378-411e-470d-e7f1-d8f55c74b1a4"
      },
      "source": [
        "target = {\n",
        "    \"brush_hair\" : 0,\n",
        "    \"smoke\"      : 1,\n",
        "    \"run\"        : 2,\n",
        "    \"clap\"       : 3\n",
        "}\n",
        "import itertools\n",
        "\n",
        "target_train= [[0]*76,[1]*176,[2]*97,[3]*87]\n",
        "target_train = list(itertools.chain.from_iterable(target_train))\n",
        "target_test = [[0]*20,[1]*45,[2]*24,[3]*22]\n",
        "target_test = list(itertools.chain.from_iterable(target_test))\n",
        "\n",
        "print(len(data_test[3]))\n",
        "print(target_test.count(3))\n",
        "all_data_test = list(itertools.chain.from_iterable(data_test))\n",
        "  "
      ],
      "execution_count": null,
      "outputs": [
        {
          "output_type": "stream",
          "text": [
            "22\n",
            "22\n"
          ],
          "name": "stdout"
        }
      ]
    },
    {
      "cell_type": "markdown",
      "metadata": {
        "id": "SIPxoPlPFk3Q"
      },
      "source": [
        "# tesorに変換"
      ]
    },
    {
      "cell_type": "code",
      "metadata": {
        "id": "24jsPU8ttlXI"
      },
      "source": [
        "X_train = torch.stack([TF.to_tensor(i) for i in all_data_train])\n",
        "Y_train = torch.stack([torch.from_numpy(np.array(i)) for i in target_train])\n",
        "X_test  = torch.stack([TF.to_tensor(i) for i in all_data_test])\n",
        "Y_test = torch.stack([torch.from_numpy(np.array(i)) for i in target_test])"
      ],
      "execution_count": null,
      "outputs": []
    },
    {
      "cell_type": "code",
      "metadata": {
        "colab": {
          "base_uri": "https://localhost:8080/"
        },
        "id": "aT_Mx8Zk1oLl",
        "outputId": "72701801-436a-4bb8-9246-b5024fbf5e29"
      },
      "source": [
        "print(X_train.shape)\n",
        "print(Y_train)\n",
        "print(X_test.shape)\n",
        "print(Y_test)\n",
        "#nomalized_tensor_gray_image = TF.to_tensor(X_train)"
      ],
      "execution_count": null,
      "outputs": [
        {
          "output_type": "stream",
          "text": [
            "torch.Size([436, 16, 224, 224])\n",
            "tensor([0, 0, 0, 0, 0, 0, 0, 0, 0, 0, 0, 0, 0, 0, 0, 0, 0, 0, 0, 0, 0, 0, 0, 0,\n",
            "        0, 0, 0, 0, 0, 0, 0, 0, 0, 0, 0, 0, 0, 0, 0, 0, 0, 0, 0, 0, 0, 0, 0, 0,\n",
            "        0, 0, 0, 0, 0, 0, 0, 0, 0, 0, 0, 0, 0, 0, 0, 0, 0, 0, 0, 0, 0, 0, 0, 0,\n",
            "        0, 0, 0, 0, 1, 1, 1, 1, 1, 1, 1, 1, 1, 1, 1, 1, 1, 1, 1, 1, 1, 1, 1, 1,\n",
            "        1, 1, 1, 1, 1, 1, 1, 1, 1, 1, 1, 1, 1, 1, 1, 1, 1, 1, 1, 1, 1, 1, 1, 1,\n",
            "        1, 1, 1, 1, 1, 1, 1, 1, 1, 1, 1, 1, 1, 1, 1, 1, 1, 1, 1, 1, 1, 1, 1, 1,\n",
            "        1, 1, 1, 1, 1, 1, 1, 1, 1, 1, 1, 1, 1, 1, 1, 1, 1, 1, 1, 1, 1, 1, 1, 1,\n",
            "        1, 1, 1, 1, 1, 1, 1, 1, 1, 1, 1, 1, 1, 1, 1, 1, 1, 1, 1, 1, 1, 1, 1, 1,\n",
            "        1, 1, 1, 1, 1, 1, 1, 1, 1, 1, 1, 1, 1, 1, 1, 1, 1, 1, 1, 1, 1, 1, 1, 1,\n",
            "        1, 1, 1, 1, 1, 1, 1, 1, 1, 1, 1, 1, 1, 1, 1, 1, 1, 1, 1, 1, 1, 1, 1, 1,\n",
            "        1, 1, 1, 1, 1, 1, 1, 1, 1, 1, 1, 1, 2, 2, 2, 2, 2, 2, 2, 2, 2, 2, 2, 2,\n",
            "        2, 2, 2, 2, 2, 2, 2, 2, 2, 2, 2, 2, 2, 2, 2, 2, 2, 2, 2, 2, 2, 2, 2, 2,\n",
            "        2, 2, 2, 2, 2, 2, 2, 2, 2, 2, 2, 2, 2, 2, 2, 2, 2, 2, 2, 2, 2, 2, 2, 2,\n",
            "        2, 2, 2, 2, 2, 2, 2, 2, 2, 2, 2, 2, 2, 2, 2, 2, 2, 2, 2, 2, 2, 2, 2, 2,\n",
            "        2, 2, 2, 2, 2, 2, 2, 2, 2, 2, 2, 2, 2, 3, 3, 3, 3, 3, 3, 3, 3, 3, 3, 3,\n",
            "        3, 3, 3, 3, 3, 3, 3, 3, 3, 3, 3, 3, 3, 3, 3, 3, 3, 3, 3, 3, 3, 3, 3, 3,\n",
            "        3, 3, 3, 3, 3, 3, 3, 3, 3, 3, 3, 3, 3, 3, 3, 3, 3, 3, 3, 3, 3, 3, 3, 3,\n",
            "        3, 3, 3, 3, 3, 3, 3, 3, 3, 3, 3, 3, 3, 3, 3, 3, 3, 3, 3, 3, 3, 3, 3, 3,\n",
            "        3, 3, 3, 3])\n",
            "torch.Size([111, 16, 224, 224])\n",
            "tensor([0, 0, 0, 0, 0, 0, 0, 0, 0, 0, 0, 0, 0, 0, 0, 0, 0, 0, 0, 0, 1, 1, 1, 1,\n",
            "        1, 1, 1, 1, 1, 1, 1, 1, 1, 1, 1, 1, 1, 1, 1, 1, 1, 1, 1, 1, 1, 1, 1, 1,\n",
            "        1, 1, 1, 1, 1, 1, 1, 1, 1, 1, 1, 1, 1, 1, 1, 1, 1, 2, 2, 2, 2, 2, 2, 2,\n",
            "        2, 2, 2, 2, 2, 2, 2, 2, 2, 2, 2, 2, 2, 2, 2, 2, 2, 3, 3, 3, 3, 3, 3, 3,\n",
            "        3, 3, 3, 3, 3, 3, 3, 3, 3, 3, 3, 3, 3, 3, 3])\n"
          ],
          "name": "stdout"
        }
      ]
    },
    {
      "cell_type": "markdown",
      "metadata": {
        "id": "d11SRX_eFqaN"
      },
      "source": [
        "# torchにload\n"
      ]
    },
    {
      "cell_type": "code",
      "metadata": {
        "id": "wvPM5TBmuwld"
      },
      "source": [
        "train_dataset = torch.utils.data.TensorDataset(X_train, Y_train)\n",
        "train_loader = torch.utils.data.DataLoader(train_dataset,batch_size=32,shuffle=True,num_workers=2)\n",
        "test_dataset = torch.utils.data.TensorDataset(X_test, Y_test)\n",
        "test_loader = torch.utils.data.DataLoader(test_dataset,batch_size=32,shuffle=True,num_workers=2)"
      ],
      "execution_count": null,
      "outputs": []
    },
    {
      "cell_type": "markdown",
      "metadata": {
        "id": "gfoHTN6BF2_7"
      },
      "source": [
        "# 単純なCNNモデル"
      ]
    },
    {
      "cell_type": "code",
      "metadata": {
        "id": "A5g0tUvj5O1F"
      },
      "source": [
        "class CNN(nn.Module):\n",
        "    def __init__(self):\n",
        "        # クラスの初期化\n",
        "        super(CNN, self).__init__()\n",
        "\n",
        "        # 画像を畳み込みを行うまで\n",
        "        self.head = nn.Sequential(\n",
        "            nn.Conv2d(in_channels=16, out_channels=10, kernel_size=(5, 5), stride=1, padding=0),\n",
        "            nn.ReLU(),\n",
        "            nn.MaxPool2d(kernel_size=2),\n",
        "            nn.Conv2d(in_channels=10, out_channels=20, kernel_size=(5, 5), stride=1, padding=0),\n",
        "            nn.ReLU(),\n",
        "            nn.MaxPool2d(kernel_size=2)\n",
        "        )\n",
        "\n",
        "        # 畳み込みで得られたベクトルを出力層に順伝播させるまで\n",
        "        self.tail = nn.Sequential(\n",
        "            nn.Linear(320, 50),\n",
        "            nn.ReLU(),\n",
        "            nn.Linear(50, 50),\n",
        "            nn.ReLU(),\n",
        "            nn.Linear(50, 4)\n",
        "        )\n",
        "\n",
        "    def __call__(self, x):\n",
        "        # 順伝播を計算する関数\n",
        "        # :param x: 入力値\n",
        "        h = self.head(x)\n",
        "        h = h.view(-1, 320)\n",
        "        h = self.tail(h)\n",
        "        y = F.log_softmax(h)\n",
        "        return y\n"
      ],
      "execution_count": null,
      "outputs": []
    },
    {
      "cell_type": "code",
      "metadata": {
        "colab": {
          "base_uri": "https://localhost:8080/"
        },
        "id": "HIgpadHF5ZB9",
        "outputId": "ff35e774-bcc9-488f-df32-388b3bc1e8ab"
      },
      "source": [
        "device=torch.device('cuda')\n",
        "net2 = CNN().to(device)\n",
        "net2.cuda()"
      ],
      "execution_count": null,
      "outputs": [
        {
          "output_type": "execute_result",
          "data": {
            "text/plain": [
              "CNN(\n",
              "  (head): Sequential(\n",
              "    (0): Conv2d(16, 10, kernel_size=(5, 5), stride=(1, 1))\n",
              "    (1): ReLU()\n",
              "    (2): MaxPool2d(kernel_size=2, stride=2, padding=0, dilation=1, ceil_mode=False)\n",
              "    (3): Conv2d(10, 20, kernel_size=(5, 5), stride=(1, 1))\n",
              "    (4): ReLU()\n",
              "    (5): MaxPool2d(kernel_size=2, stride=2, padding=0, dilation=1, ceil_mode=False)\n",
              "  )\n",
              "  (tail): Sequential(\n",
              "    (0): Linear(in_features=320, out_features=50, bias=True)\n",
              "    (1): ReLU()\n",
              "    (2): Linear(in_features=50, out_features=50, bias=True)\n",
              "    (3): ReLU()\n",
              "    (4): Linear(in_features=50, out_features=4, bias=True)\n",
              "  )\n",
              ")"
            ]
          },
          "metadata": {
            "tags": []
          },
          "execution_count": 30
        }
      ]
    },
    {
      "cell_type": "markdown",
      "metadata": {
        "id": "1fVWttk3F9r2"
      },
      "source": [
        "# ResNetモデル"
      ]
    },
    {
      "cell_type": "code",
      "metadata": {
        "id": "oUcxVkF0w9ok"
      },
      "source": [
        "class Bottleneck(nn.Module):\n",
        "    \"\"\"\n",
        "    Bottleneckを使用したresidual blockクラス\n",
        "    \"\"\"\n",
        "    def __init__(self, indim, outdim, is_first_resblock=False):\n",
        "        super(Bottleneck, self).__init__()\n",
        "        self.is_dim_changed = (indim != outdim)\n",
        "        # W, Hを小さくしてCを増やす際はstrideを2にする +\n",
        "        # projection shortcutを使う様にセット\n",
        "        if self.is_dim_changed:\n",
        "            if is_first_resblock:\n",
        "                # 最初のresblockは(W､ H)は変更しないのでstrideは1にする\n",
        "                stride = 1\n",
        "            else:\n",
        "                stride = 2\n",
        "            self.shortcut = nn.Conv2d(indim, outdim, 1, stride=stride)\n",
        "        else:\n",
        "            stride = 1\n",
        "        \n",
        "        dim_inter = int(outdim / 4)\n",
        "        self.conv1 = nn.Conv2d(indim, dim_inter , 1)\n",
        "        self.bn1 = nn.BatchNorm2d(dim_inter)\n",
        "        self.conv2 = nn.Conv2d(dim_inter, dim_inter, 3,\n",
        "                               stride=stride, padding=1)\n",
        "        self.bn2 = nn.BatchNorm2d(dim_inter)\n",
        "        self.conv3 = nn.Conv2d(dim_inter, outdim, 1)\n",
        "        self.bn3 = nn.BatchNorm2d(outdim)\n",
        "        self.relu = nn.ReLU(inplace=True)\n",
        "        \n",
        "\n",
        "    def forward(self, x):\n",
        "        shortcut = x\n",
        "  \n",
        "        out = self.conv1(x)\n",
        "        out = self.bn1(out)\n",
        "        out = self.relu(out)\n",
        "\n",
        "        out = self.conv2(out)\n",
        "        out = self.bn2(out)\n",
        "        out = self.relu(out)\n",
        "\n",
        "        out = self.conv3(out)\n",
        "        out = self.bn3(out)\n",
        "        \n",
        "        # Projection shortcutの場合\n",
        "        if self.is_dim_changed:\n",
        "            shortcut = self.shortcut(x)\n",
        "\n",
        "        out += shortcut\n",
        "        out = self.relu(out)\n",
        "\n",
        "        return out\n",
        "\n",
        "\n",
        "class ResNet50(nn.Module):\n",
        "    \n",
        "    def __init__(self): \n",
        "          \n",
        "        super(ResNet50, self).__init__()\n",
        "        \n",
        "        # Due to memory limitation, images will be resized on-the-fly.\n",
        "        self.upsampler = nn.Upsample(size=(224, 224))\n",
        "\n",
        "        # Prior block\n",
        "        self.layer_1 = nn.Conv2d(16, 64, 7, padding=3, stride=2)\n",
        "        self.bn_1 = nn.BatchNorm2d(64)\n",
        "        self.relu = nn.ReLU(inplace=True)\n",
        "        self.pool = nn.MaxPool2d(2, 2)\n",
        "        \n",
        "        # Residual blocks\n",
        "        self.resblock1 = Bottleneck(64, 256, True)\n",
        "        self.resblock2 = Bottleneck(256, 256)\n",
        "        self.resblock3 = Bottleneck(256, 256)\n",
        "        self.resblock4 = Bottleneck(256, 512)\n",
        "        self.resblock5 = Bottleneck(512, 512)\n",
        "        self.resblock6 = Bottleneck(512, 512)\n",
        "        self.resblock7 = Bottleneck(512, 512)\n",
        "        self.resblock8 = Bottleneck(512, 1024)\n",
        "        self.resblock9 = Bottleneck(1024, 1024)\n",
        "        self.resblock10 =Bottleneck(1024, 1024)\n",
        "        self.resblock11 =Bottleneck(1024, 1024)\n",
        "        self.resblock12 =Bottleneck(1024, 1024)\n",
        "        self.resblock13 =Bottleneck(1024, 1024)\n",
        "        self.resblock14 =Bottleneck(1024, 2048)\n",
        "        self.resblock15 =Bottleneck(2048, 2048)\n",
        "        self.resblock16 =Bottleneck(2048, 2048)\n",
        "        \n",
        "        # Postreior Block\n",
        "        self.glob_avg_pool = nn.AdaptiveAvgPool2d((1, 1))        \n",
        "        self.fc = nn.Linear(2048, 4)\n",
        "\n",
        "    def forward(self, x):\n",
        "        x = self.upsampler(x)\n",
        "        \n",
        "        # Prior block\n",
        "        x = self.relu(self.bn_1(self.layer_1(x)))\n",
        "        x = self.pool(x)\n",
        "        \n",
        "        # Residual blocks\n",
        "        x = self.resblock1(x)\n",
        "        x = self.resblock2(x)\n",
        "        x = self.resblock3(x)\n",
        "        x = self.resblock4(x)\n",
        "        x = self.resblock5(x)\n",
        "        x = self.resblock6(x)\n",
        "        x = self.resblock7(x)\n",
        "        x = self.resblock8(x)\n",
        "        x = self.resblock9(x)\n",
        "        x = self.resblock10(x)\n",
        "        x = self.resblock11(x)\n",
        "        x = self.resblock12(x)\n",
        "        x = self.resblock13(x)\n",
        "        x = self.resblock14(x)\n",
        "        x = self.resblock15(x)\n",
        "        x = self.resblock16(x)\n",
        "        \n",
        "        # Postreior Block\n",
        "        x = self.glob_avg_pool(x)\n",
        "        x = x.reshape(x.size(0), -1)\n",
        "        x = self.fc(x)\n",
        "        return x"
      ],
      "execution_count": null,
      "outputs": []
    },
    {
      "cell_type": "code",
      "metadata": {
        "id": "JdpVGbcF-Dlb",
        "colab": {
          "base_uri": "https://localhost:8080/"
        },
        "outputId": "971eb46d-a1d8-4fb2-fc74-7ee609195a0f"
      },
      "source": [
        "device=torch.device('cuda')\n",
        "net = ResNet50().to(device)\n",
        "net.cuda()"
      ],
      "execution_count": null,
      "outputs": [
        {
          "output_type": "execute_result",
          "data": {
            "text/plain": [
              "ResNet50(\n",
              "  (upsampler): Upsample(size=(224, 224), mode=nearest)\n",
              "  (layer_1): Conv2d(16, 64, kernel_size=(7, 7), stride=(2, 2), padding=(3, 3))\n",
              "  (bn_1): BatchNorm2d(64, eps=1e-05, momentum=0.1, affine=True, track_running_stats=True)\n",
              "  (relu): ReLU(inplace=True)\n",
              "  (pool): MaxPool2d(kernel_size=2, stride=2, padding=0, dilation=1, ceil_mode=False)\n",
              "  (resblock1): Bottleneck(\n",
              "    (shortcut): Conv2d(64, 256, kernel_size=(1, 1), stride=(1, 1))\n",
              "    (conv1): Conv2d(64, 64, kernel_size=(1, 1), stride=(1, 1))\n",
              "    (bn1): BatchNorm2d(64, eps=1e-05, momentum=0.1, affine=True, track_running_stats=True)\n",
              "    (conv2): Conv2d(64, 64, kernel_size=(3, 3), stride=(1, 1), padding=(1, 1))\n",
              "    (bn2): BatchNorm2d(64, eps=1e-05, momentum=0.1, affine=True, track_running_stats=True)\n",
              "    (conv3): Conv2d(64, 256, kernel_size=(1, 1), stride=(1, 1))\n",
              "    (bn3): BatchNorm2d(256, eps=1e-05, momentum=0.1, affine=True, track_running_stats=True)\n",
              "    (relu): ReLU(inplace=True)\n",
              "  )\n",
              "  (resblock2): Bottleneck(\n",
              "    (conv1): Conv2d(256, 64, kernel_size=(1, 1), stride=(1, 1))\n",
              "    (bn1): BatchNorm2d(64, eps=1e-05, momentum=0.1, affine=True, track_running_stats=True)\n",
              "    (conv2): Conv2d(64, 64, kernel_size=(3, 3), stride=(1, 1), padding=(1, 1))\n",
              "    (bn2): BatchNorm2d(64, eps=1e-05, momentum=0.1, affine=True, track_running_stats=True)\n",
              "    (conv3): Conv2d(64, 256, kernel_size=(1, 1), stride=(1, 1))\n",
              "    (bn3): BatchNorm2d(256, eps=1e-05, momentum=0.1, affine=True, track_running_stats=True)\n",
              "    (relu): ReLU(inplace=True)\n",
              "  )\n",
              "  (resblock3): Bottleneck(\n",
              "    (conv1): Conv2d(256, 64, kernel_size=(1, 1), stride=(1, 1))\n",
              "    (bn1): BatchNorm2d(64, eps=1e-05, momentum=0.1, affine=True, track_running_stats=True)\n",
              "    (conv2): Conv2d(64, 64, kernel_size=(3, 3), stride=(1, 1), padding=(1, 1))\n",
              "    (bn2): BatchNorm2d(64, eps=1e-05, momentum=0.1, affine=True, track_running_stats=True)\n",
              "    (conv3): Conv2d(64, 256, kernel_size=(1, 1), stride=(1, 1))\n",
              "    (bn3): BatchNorm2d(256, eps=1e-05, momentum=0.1, affine=True, track_running_stats=True)\n",
              "    (relu): ReLU(inplace=True)\n",
              "  )\n",
              "  (resblock4): Bottleneck(\n",
              "    (shortcut): Conv2d(256, 512, kernel_size=(1, 1), stride=(2, 2))\n",
              "    (conv1): Conv2d(256, 128, kernel_size=(1, 1), stride=(1, 1))\n",
              "    (bn1): BatchNorm2d(128, eps=1e-05, momentum=0.1, affine=True, track_running_stats=True)\n",
              "    (conv2): Conv2d(128, 128, kernel_size=(3, 3), stride=(2, 2), padding=(1, 1))\n",
              "    (bn2): BatchNorm2d(128, eps=1e-05, momentum=0.1, affine=True, track_running_stats=True)\n",
              "    (conv3): Conv2d(128, 512, kernel_size=(1, 1), stride=(1, 1))\n",
              "    (bn3): BatchNorm2d(512, eps=1e-05, momentum=0.1, affine=True, track_running_stats=True)\n",
              "    (relu): ReLU(inplace=True)\n",
              "  )\n",
              "  (resblock5): Bottleneck(\n",
              "    (conv1): Conv2d(512, 128, kernel_size=(1, 1), stride=(1, 1))\n",
              "    (bn1): BatchNorm2d(128, eps=1e-05, momentum=0.1, affine=True, track_running_stats=True)\n",
              "    (conv2): Conv2d(128, 128, kernel_size=(3, 3), stride=(1, 1), padding=(1, 1))\n",
              "    (bn2): BatchNorm2d(128, eps=1e-05, momentum=0.1, affine=True, track_running_stats=True)\n",
              "    (conv3): Conv2d(128, 512, kernel_size=(1, 1), stride=(1, 1))\n",
              "    (bn3): BatchNorm2d(512, eps=1e-05, momentum=0.1, affine=True, track_running_stats=True)\n",
              "    (relu): ReLU(inplace=True)\n",
              "  )\n",
              "  (resblock6): Bottleneck(\n",
              "    (conv1): Conv2d(512, 128, kernel_size=(1, 1), stride=(1, 1))\n",
              "    (bn1): BatchNorm2d(128, eps=1e-05, momentum=0.1, affine=True, track_running_stats=True)\n",
              "    (conv2): Conv2d(128, 128, kernel_size=(3, 3), stride=(1, 1), padding=(1, 1))\n",
              "    (bn2): BatchNorm2d(128, eps=1e-05, momentum=0.1, affine=True, track_running_stats=True)\n",
              "    (conv3): Conv2d(128, 512, kernel_size=(1, 1), stride=(1, 1))\n",
              "    (bn3): BatchNorm2d(512, eps=1e-05, momentum=0.1, affine=True, track_running_stats=True)\n",
              "    (relu): ReLU(inplace=True)\n",
              "  )\n",
              "  (resblock7): Bottleneck(\n",
              "    (conv1): Conv2d(512, 128, kernel_size=(1, 1), stride=(1, 1))\n",
              "    (bn1): BatchNorm2d(128, eps=1e-05, momentum=0.1, affine=True, track_running_stats=True)\n",
              "    (conv2): Conv2d(128, 128, kernel_size=(3, 3), stride=(1, 1), padding=(1, 1))\n",
              "    (bn2): BatchNorm2d(128, eps=1e-05, momentum=0.1, affine=True, track_running_stats=True)\n",
              "    (conv3): Conv2d(128, 512, kernel_size=(1, 1), stride=(1, 1))\n",
              "    (bn3): BatchNorm2d(512, eps=1e-05, momentum=0.1, affine=True, track_running_stats=True)\n",
              "    (relu): ReLU(inplace=True)\n",
              "  )\n",
              "  (resblock8): Bottleneck(\n",
              "    (shortcut): Conv2d(512, 1024, kernel_size=(1, 1), stride=(2, 2))\n",
              "    (conv1): Conv2d(512, 256, kernel_size=(1, 1), stride=(1, 1))\n",
              "    (bn1): BatchNorm2d(256, eps=1e-05, momentum=0.1, affine=True, track_running_stats=True)\n",
              "    (conv2): Conv2d(256, 256, kernel_size=(3, 3), stride=(2, 2), padding=(1, 1))\n",
              "    (bn2): BatchNorm2d(256, eps=1e-05, momentum=0.1, affine=True, track_running_stats=True)\n",
              "    (conv3): Conv2d(256, 1024, kernel_size=(1, 1), stride=(1, 1))\n",
              "    (bn3): BatchNorm2d(1024, eps=1e-05, momentum=0.1, affine=True, track_running_stats=True)\n",
              "    (relu): ReLU(inplace=True)\n",
              "  )\n",
              "  (resblock9): Bottleneck(\n",
              "    (conv1): Conv2d(1024, 256, kernel_size=(1, 1), stride=(1, 1))\n",
              "    (bn1): BatchNorm2d(256, eps=1e-05, momentum=0.1, affine=True, track_running_stats=True)\n",
              "    (conv2): Conv2d(256, 256, kernel_size=(3, 3), stride=(1, 1), padding=(1, 1))\n",
              "    (bn2): BatchNorm2d(256, eps=1e-05, momentum=0.1, affine=True, track_running_stats=True)\n",
              "    (conv3): Conv2d(256, 1024, kernel_size=(1, 1), stride=(1, 1))\n",
              "    (bn3): BatchNorm2d(1024, eps=1e-05, momentum=0.1, affine=True, track_running_stats=True)\n",
              "    (relu): ReLU(inplace=True)\n",
              "  )\n",
              "  (resblock10): Bottleneck(\n",
              "    (conv1): Conv2d(1024, 256, kernel_size=(1, 1), stride=(1, 1))\n",
              "    (bn1): BatchNorm2d(256, eps=1e-05, momentum=0.1, affine=True, track_running_stats=True)\n",
              "    (conv2): Conv2d(256, 256, kernel_size=(3, 3), stride=(1, 1), padding=(1, 1))\n",
              "    (bn2): BatchNorm2d(256, eps=1e-05, momentum=0.1, affine=True, track_running_stats=True)\n",
              "    (conv3): Conv2d(256, 1024, kernel_size=(1, 1), stride=(1, 1))\n",
              "    (bn3): BatchNorm2d(1024, eps=1e-05, momentum=0.1, affine=True, track_running_stats=True)\n",
              "    (relu): ReLU(inplace=True)\n",
              "  )\n",
              "  (resblock11): Bottleneck(\n",
              "    (conv1): Conv2d(1024, 256, kernel_size=(1, 1), stride=(1, 1))\n",
              "    (bn1): BatchNorm2d(256, eps=1e-05, momentum=0.1, affine=True, track_running_stats=True)\n",
              "    (conv2): Conv2d(256, 256, kernel_size=(3, 3), stride=(1, 1), padding=(1, 1))\n",
              "    (bn2): BatchNorm2d(256, eps=1e-05, momentum=0.1, affine=True, track_running_stats=True)\n",
              "    (conv3): Conv2d(256, 1024, kernel_size=(1, 1), stride=(1, 1))\n",
              "    (bn3): BatchNorm2d(1024, eps=1e-05, momentum=0.1, affine=True, track_running_stats=True)\n",
              "    (relu): ReLU(inplace=True)\n",
              "  )\n",
              "  (resblock12): Bottleneck(\n",
              "    (conv1): Conv2d(1024, 256, kernel_size=(1, 1), stride=(1, 1))\n",
              "    (bn1): BatchNorm2d(256, eps=1e-05, momentum=0.1, affine=True, track_running_stats=True)\n",
              "    (conv2): Conv2d(256, 256, kernel_size=(3, 3), stride=(1, 1), padding=(1, 1))\n",
              "    (bn2): BatchNorm2d(256, eps=1e-05, momentum=0.1, affine=True, track_running_stats=True)\n",
              "    (conv3): Conv2d(256, 1024, kernel_size=(1, 1), stride=(1, 1))\n",
              "    (bn3): BatchNorm2d(1024, eps=1e-05, momentum=0.1, affine=True, track_running_stats=True)\n",
              "    (relu): ReLU(inplace=True)\n",
              "  )\n",
              "  (resblock13): Bottleneck(\n",
              "    (conv1): Conv2d(1024, 256, kernel_size=(1, 1), stride=(1, 1))\n",
              "    (bn1): BatchNorm2d(256, eps=1e-05, momentum=0.1, affine=True, track_running_stats=True)\n",
              "    (conv2): Conv2d(256, 256, kernel_size=(3, 3), stride=(1, 1), padding=(1, 1))\n",
              "    (bn2): BatchNorm2d(256, eps=1e-05, momentum=0.1, affine=True, track_running_stats=True)\n",
              "    (conv3): Conv2d(256, 1024, kernel_size=(1, 1), stride=(1, 1))\n",
              "    (bn3): BatchNorm2d(1024, eps=1e-05, momentum=0.1, affine=True, track_running_stats=True)\n",
              "    (relu): ReLU(inplace=True)\n",
              "  )\n",
              "  (resblock14): Bottleneck(\n",
              "    (shortcut): Conv2d(1024, 2048, kernel_size=(1, 1), stride=(2, 2))\n",
              "    (conv1): Conv2d(1024, 512, kernel_size=(1, 1), stride=(1, 1))\n",
              "    (bn1): BatchNorm2d(512, eps=1e-05, momentum=0.1, affine=True, track_running_stats=True)\n",
              "    (conv2): Conv2d(512, 512, kernel_size=(3, 3), stride=(2, 2), padding=(1, 1))\n",
              "    (bn2): BatchNorm2d(512, eps=1e-05, momentum=0.1, affine=True, track_running_stats=True)\n",
              "    (conv3): Conv2d(512, 2048, kernel_size=(1, 1), stride=(1, 1))\n",
              "    (bn3): BatchNorm2d(2048, eps=1e-05, momentum=0.1, affine=True, track_running_stats=True)\n",
              "    (relu): ReLU(inplace=True)\n",
              "  )\n",
              "  (resblock15): Bottleneck(\n",
              "    (conv1): Conv2d(2048, 512, kernel_size=(1, 1), stride=(1, 1))\n",
              "    (bn1): BatchNorm2d(512, eps=1e-05, momentum=0.1, affine=True, track_running_stats=True)\n",
              "    (conv2): Conv2d(512, 512, kernel_size=(3, 3), stride=(1, 1), padding=(1, 1))\n",
              "    (bn2): BatchNorm2d(512, eps=1e-05, momentum=0.1, affine=True, track_running_stats=True)\n",
              "    (conv3): Conv2d(512, 2048, kernel_size=(1, 1), stride=(1, 1))\n",
              "    (bn3): BatchNorm2d(2048, eps=1e-05, momentum=0.1, affine=True, track_running_stats=True)\n",
              "    (relu): ReLU(inplace=True)\n",
              "  )\n",
              "  (resblock16): Bottleneck(\n",
              "    (conv1): Conv2d(2048, 512, kernel_size=(1, 1), stride=(1, 1))\n",
              "    (bn1): BatchNorm2d(512, eps=1e-05, momentum=0.1, affine=True, track_running_stats=True)\n",
              "    (conv2): Conv2d(512, 512, kernel_size=(3, 3), stride=(1, 1), padding=(1, 1))\n",
              "    (bn2): BatchNorm2d(512, eps=1e-05, momentum=0.1, affine=True, track_running_stats=True)\n",
              "    (conv3): Conv2d(512, 2048, kernel_size=(1, 1), stride=(1, 1))\n",
              "    (bn3): BatchNorm2d(2048, eps=1e-05, momentum=0.1, affine=True, track_running_stats=True)\n",
              "    (relu): ReLU(inplace=True)\n",
              "  )\n",
              "  (glob_avg_pool): AdaptiveAvgPool2d(output_size=(1, 1))\n",
              "  (fc): Linear(in_features=2048, out_features=4, bias=True)\n",
              ")"
            ]
          },
          "metadata": {
            "tags": []
          },
          "execution_count": 32
        }
      ]
    },
    {
      "cell_type": "markdown",
      "metadata": {
        "id": "e0a264AZGC6U"
      },
      "source": [
        "# parameter\n"
      ]
    },
    {
      "cell_type": "code",
      "metadata": {
        "id": "Hm1qbxOf-Snc"
      },
      "source": [
        "criterion = nn.CrossEntropyLoss()\n",
        "optimizer = optim.Adam(net.parameters(), lr=0.001)"
      ],
      "execution_count": null,
      "outputs": []
    },
    {
      "cell_type": "markdown",
      "metadata": {
        "id": "-IJ7DFUEGF5T"
      },
      "source": [
        "# 学習"
      ]
    },
    {
      "cell_type": "code",
      "metadata": {
        "colab": {
          "base_uri": "https://localhost:8080/",
          "height": 1000
        },
        "id": "Fjjcyao--ZNP",
        "outputId": "82818528-781b-45c9-e87a-e3a8ad0d8fd0"
      },
      "source": [
        "# lossとaccuracyを格納\n",
        "train_loss_list = []\n",
        "train_acc_list = []\n",
        "val_loss_list = []\n",
        "val_acc_list = []\n",
        "\n",
        "nb_epoch = 100\n",
        "\n",
        "for epoch in range(nb_epoch):\n",
        "    train_loss = 0\n",
        "    train_acc = 0\n",
        "    val_loss = 0\n",
        "    val_acc = 0\n",
        "\n",
        "    #train\n",
        "    net.train()\n",
        "    for i, (data, labels) in enumerate(train_loader):\n",
        "      \n",
        "      data, labels = data.to(device), labels.to(device)\n",
        "\n",
        "      optimizer.zero_grad()\n",
        "      outputs = net(data)\n",
        "      loss = criterion(outputs, labels)\n",
        "      train_loss += loss.item()\n",
        "      train_acc += (outputs.max(1)[1] == labels).sum().item()\n",
        "      loss.backward()\n",
        "      optimizer.step()\n",
        "\n",
        "    avg_train_loss = train_loss / len(train_loader.dataset)\n",
        "    avg_train_acc = train_acc / len(train_loader.dataset)\n",
        "\n",
        "    train_loss_list.append(avg_train_loss)\n",
        "    train_acc_list.append(avg_train_acc)\n",
        "    print ('Epoch [{}/{}], train_loss: {train_loss:.4f}, train_acc: {train_acc:.4f}' \n",
        "                   .format(epoch+1, nb_epoch, i+1,  train_loss=avg_train_loss, train_acc=avg_train_acc))\n",
        "    #test\n",
        "    net.eval()\n",
        "    with torch.no_grad():\n",
        "     for data, labels in test_loader:\n",
        "      data = data.to(device)\n",
        "      labels = labels.to(device)\n",
        "      outputs = net(data)\n",
        "      loss = criterion(outputs, labels)\n",
        "      val_loss += loss.item()\n",
        "      val_acc += (outputs.max(1)[1] == labels).sum().item()\n",
        "    avg_val_loss = val_loss / len(test_loader.dataset)\n",
        "    avg_val_acc = val_acc / len(test_loader.dataset)\n",
        "\n",
        "    print ('Epoch [{}/{}], val_loss: {val_loss:.4f}, val_acc: {val_acc:.4f}' \n",
        "                   .format(epoch+1, nb_epoch, i+1,  val_loss=avg_val_loss, val_acc=avg_val_acc))\n",
        "    \n",
        "    val_loss_list.append(avg_val_loss)\n",
        "    val_acc_list.append(avg_val_acc)\n",
        "\n"
      ],
      "execution_count": null,
      "outputs": [
        {
          "output_type": "stream",
          "text": [
            "Epoch [1/100], train_loss: 0.0789, train_acc: 0.3784\n",
            "Epoch [1/100], val_loss: 20.4604, val_acc: 0.3874\n",
            "Epoch [2/100], train_loss: 0.0413, train_acc: 0.4587\n",
            "Epoch [2/100], val_loss: 0.0485, val_acc: 0.4505\n",
            "Epoch [3/100], train_loss: 0.0417, train_acc: 0.4495\n",
            "Epoch [3/100], val_loss: 0.0520, val_acc: 0.4414\n",
            "Epoch [4/100], train_loss: 0.0405, train_acc: 0.4771\n",
            "Epoch [4/100], val_loss: 0.0522, val_acc: 0.4505\n",
            "Epoch [5/100], train_loss: 0.0418, train_acc: 0.4748\n",
            "Epoch [5/100], val_loss: 0.0494, val_acc: 0.4505\n",
            "Epoch [6/100], train_loss: 0.0387, train_acc: 0.4954\n",
            "Epoch [6/100], val_loss: 0.0518, val_acc: 0.4955\n",
            "Epoch [7/100], train_loss: 0.0392, train_acc: 0.5069\n",
            "Epoch [7/100], val_loss: 0.0473, val_acc: 0.4865\n",
            "Epoch [8/100], train_loss: 0.0364, train_acc: 0.5046\n",
            "Epoch [8/100], val_loss: 0.0436, val_acc: 0.5045\n",
            "Epoch [9/100], train_loss: 0.0350, train_acc: 0.5619\n",
            "Epoch [9/100], val_loss: 0.0457, val_acc: 0.4505\n",
            "Epoch [10/100], train_loss: 0.0352, train_acc: 0.5780\n",
            "Epoch [10/100], val_loss: 0.0711, val_acc: 0.3604\n",
            "Epoch [11/100], train_loss: 0.0353, train_acc: 0.5505\n",
            "Epoch [11/100], val_loss: 0.0479, val_acc: 0.5225\n",
            "Epoch [12/100], train_loss: 0.0326, train_acc: 0.5665\n",
            "Epoch [12/100], val_loss: 0.0481, val_acc: 0.5405\n",
            "Epoch [13/100], train_loss: 0.0340, train_acc: 0.5505\n",
            "Epoch [13/100], val_loss: 0.0515, val_acc: 0.4955\n",
            "Epoch [14/100], train_loss: 0.0337, train_acc: 0.5734\n",
            "Epoch [14/100], val_loss: 0.0692, val_acc: 0.3694\n",
            "Epoch [15/100], train_loss: 0.0322, train_acc: 0.5711\n",
            "Epoch [15/100], val_loss: 0.0461, val_acc: 0.5045\n",
            "Epoch [16/100], train_loss: 0.0318, train_acc: 0.6170\n",
            "Epoch [16/100], val_loss: 0.0450, val_acc: 0.5135\n",
            "Epoch [17/100], train_loss: 0.0326, train_acc: 0.5711\n",
            "Epoch [17/100], val_loss: 0.0428, val_acc: 0.5225\n",
            "Epoch [18/100], train_loss: 0.0314, train_acc: 0.6216\n",
            "Epoch [18/100], val_loss: 0.0473, val_acc: 0.4685\n",
            "Epoch [19/100], train_loss: 0.0298, train_acc: 0.6537\n",
            "Epoch [19/100], val_loss: 0.0572, val_acc: 0.4955\n",
            "Epoch [20/100], train_loss: 0.0297, train_acc: 0.6239\n",
            "Epoch [20/100], val_loss: 0.0454, val_acc: 0.5045\n",
            "Epoch [21/100], train_loss: 0.0315, train_acc: 0.6055\n",
            "Epoch [21/100], val_loss: 0.1649, val_acc: 0.3694\n",
            "Epoch [22/100], train_loss: 0.0309, train_acc: 0.5940\n",
            "Epoch [22/100], val_loss: 0.0575, val_acc: 0.4865\n",
            "Epoch [23/100], train_loss: 0.0278, train_acc: 0.6560\n",
            "Epoch [23/100], val_loss: 0.0557, val_acc: 0.4144\n",
            "Epoch [24/100], train_loss: 0.0288, train_acc: 0.6445\n",
            "Epoch [24/100], val_loss: 0.0450, val_acc: 0.5315\n",
            "Epoch [25/100], train_loss: 0.0262, train_acc: 0.6950\n",
            "Epoch [25/100], val_loss: 0.0443, val_acc: 0.5405\n",
            "Epoch [26/100], train_loss: 0.0255, train_acc: 0.6835\n",
            "Epoch [26/100], val_loss: 0.0903, val_acc: 0.4955\n",
            "Epoch [27/100], train_loss: 0.0249, train_acc: 0.6950\n",
            "Epoch [27/100], val_loss: 0.0392, val_acc: 0.5946\n",
            "Epoch [28/100], train_loss: 0.0225, train_acc: 0.7225\n",
            "Epoch [28/100], val_loss: 0.0594, val_acc: 0.4685\n",
            "Epoch [29/100], train_loss: 0.0237, train_acc: 0.7156\n",
            "Epoch [29/100], val_loss: 0.0439, val_acc: 0.5315\n",
            "Epoch [30/100], train_loss: 0.0289, train_acc: 0.6766\n",
            "Epoch [30/100], val_loss: 0.0613, val_acc: 0.4955\n",
            "Epoch [31/100], train_loss: 0.0247, train_acc: 0.7087\n",
            "Epoch [31/100], val_loss: 0.0792, val_acc: 0.4414\n",
            "Epoch [32/100], train_loss: 0.0209, train_acc: 0.7569\n",
            "Epoch [32/100], val_loss: 0.0504, val_acc: 0.5225\n",
            "Epoch [33/100], train_loss: 0.0237, train_acc: 0.7179\n",
            "Epoch [33/100], val_loss: 0.1026, val_acc: 0.4414\n",
            "Epoch [34/100], train_loss: 0.0211, train_acc: 0.7546\n",
            "Epoch [34/100], val_loss: 0.0474, val_acc: 0.5225\n",
            "Epoch [35/100], train_loss: 0.0194, train_acc: 0.7798\n",
            "Epoch [35/100], val_loss: 0.0476, val_acc: 0.6036\n",
            "Epoch [36/100], train_loss: 0.0175, train_acc: 0.7867\n",
            "Epoch [36/100], val_loss: 0.0455, val_acc: 0.5495\n",
            "Epoch [37/100], train_loss: 0.0204, train_acc: 0.7752\n",
            "Epoch [37/100], val_loss: 0.0856, val_acc: 0.3514\n",
            "Epoch [38/100], train_loss: 0.0199, train_acc: 0.7775\n",
            "Epoch [38/100], val_loss: 0.0731, val_acc: 0.5225\n",
            "Epoch [39/100], train_loss: 0.0218, train_acc: 0.7339\n",
            "Epoch [39/100], val_loss: 0.0474, val_acc: 0.6036\n",
            "Epoch [40/100], train_loss: 0.0184, train_acc: 0.7867\n",
            "Epoch [40/100], val_loss: 0.0656, val_acc: 0.3604\n",
            "Epoch [41/100], train_loss: 0.0189, train_acc: 0.7936\n",
            "Epoch [41/100], val_loss: 0.0491, val_acc: 0.5405\n",
            "Epoch [42/100], train_loss: 0.0163, train_acc: 0.8119\n",
            "Epoch [42/100], val_loss: 0.0411, val_acc: 0.5946\n",
            "Epoch [43/100], train_loss: 0.0148, train_acc: 0.8372\n",
            "Epoch [43/100], val_loss: 0.0634, val_acc: 0.5946\n",
            "Epoch [44/100], train_loss: 0.0165, train_acc: 0.8394\n",
            "Epoch [44/100], val_loss: 0.0678, val_acc: 0.5225\n",
            "Epoch [45/100], train_loss: 0.0157, train_acc: 0.7936\n",
            "Epoch [45/100], val_loss: 0.0637, val_acc: 0.5586\n",
            "Epoch [46/100], train_loss: 0.0148, train_acc: 0.8257\n",
            "Epoch [46/100], val_loss: 0.0724, val_acc: 0.4955\n",
            "Epoch [47/100], train_loss: 0.0128, train_acc: 0.8486\n",
            "Epoch [47/100], val_loss: 0.0878, val_acc: 0.5495\n",
            "Epoch [48/100], train_loss: 0.0118, train_acc: 0.8555\n",
            "Epoch [48/100], val_loss: 0.0608, val_acc: 0.6036\n",
            "Epoch [49/100], train_loss: 0.0169, train_acc: 0.8028\n",
            "Epoch [49/100], val_loss: 0.1096, val_acc: 0.4054\n",
            "Epoch [50/100], train_loss: 0.0188, train_acc: 0.7959\n",
            "Epoch [50/100], val_loss: 0.0716, val_acc: 0.5856\n",
            "Epoch [51/100], train_loss: 0.0148, train_acc: 0.8211\n",
            "Epoch [51/100], val_loss: 0.0570, val_acc: 0.5225\n",
            "Epoch [52/100], train_loss: 0.0102, train_acc: 0.8761\n",
            "Epoch [52/100], val_loss: 0.0474, val_acc: 0.5766\n",
            "Epoch [53/100], train_loss: 0.0091, train_acc: 0.8876\n",
            "Epoch [53/100], val_loss: 0.0715, val_acc: 0.5135\n",
            "Epoch [54/100], train_loss: 0.0071, train_acc: 0.9197\n",
            "Epoch [54/100], val_loss: 0.0841, val_acc: 0.5586\n",
            "Epoch [55/100], train_loss: 0.0095, train_acc: 0.8853\n",
            "Epoch [55/100], val_loss: 0.0803, val_acc: 0.5405\n",
            "Epoch [56/100], train_loss: 0.0088, train_acc: 0.8899\n",
            "Epoch [56/100], val_loss: 0.1044, val_acc: 0.4955\n",
            "Epoch [57/100], train_loss: 0.0089, train_acc: 0.8830\n",
            "Epoch [57/100], val_loss: 0.0807, val_acc: 0.5135\n",
            "Epoch [58/100], train_loss: 0.0086, train_acc: 0.9037\n",
            "Epoch [58/100], val_loss: 0.1416, val_acc: 0.4955\n",
            "Epoch [59/100], train_loss: 0.0099, train_acc: 0.8968\n",
            "Epoch [59/100], val_loss: 0.0952, val_acc: 0.5586\n",
            "Epoch [60/100], train_loss: 0.0079, train_acc: 0.9037\n",
            "Epoch [60/100], val_loss: 0.0813, val_acc: 0.5495\n",
            "Epoch [61/100], train_loss: 0.0064, train_acc: 0.9289\n",
            "Epoch [61/100], val_loss: 0.0669, val_acc: 0.6396\n",
            "Epoch [62/100], train_loss: 0.0077, train_acc: 0.9335\n",
            "Epoch [62/100], val_loss: 0.0843, val_acc: 0.5315\n",
            "Epoch [63/100], train_loss: 0.0147, train_acc: 0.8578\n",
            "Epoch [63/100], val_loss: 0.1269, val_acc: 0.5045\n",
            "Epoch [64/100], train_loss: 0.0117, train_acc: 0.8739\n",
            "Epoch [64/100], val_loss: 0.0558, val_acc: 0.6216\n",
            "Epoch [65/100], train_loss: 0.0094, train_acc: 0.8693\n",
            "Epoch [65/100], val_loss: 0.0632, val_acc: 0.6036\n",
            "Epoch [66/100], train_loss: 0.0051, train_acc: 0.9427\n",
            "Epoch [66/100], val_loss: 0.0616, val_acc: 0.6036\n",
            "Epoch [67/100], train_loss: 0.0042, train_acc: 0.9518\n",
            "Epoch [67/100], val_loss: 0.0735, val_acc: 0.5586\n",
            "Epoch [68/100], train_loss: 0.0034, train_acc: 0.9564\n",
            "Epoch [68/100], val_loss: 0.1044, val_acc: 0.5856\n",
            "Epoch [69/100], train_loss: 0.0034, train_acc: 0.9679\n",
            "Epoch [69/100], val_loss: 0.0666, val_acc: 0.5946\n",
            "Epoch [70/100], train_loss: 0.0092, train_acc: 0.8922\n",
            "Epoch [70/100], val_loss: 0.1797, val_acc: 0.4865\n",
            "Epoch [71/100], train_loss: 0.0151, train_acc: 0.8280\n",
            "Epoch [71/100], val_loss: 0.1059, val_acc: 0.5135\n"
          ],
          "name": "stdout"
        },
        {
          "output_type": "error",
          "ename": "KeyboardInterrupt",
          "evalue": "ignored",
          "traceback": [
            "\u001b[0;31m---------------------------------------------------------------------------\u001b[0m",
            "\u001b[0;31mKeyboardInterrupt\u001b[0m                         Traceback (most recent call last)",
            "\u001b[0;32m<ipython-input-36-c312fff2060b>\u001b[0m in \u001b[0;36m<module>\u001b[0;34m()\u001b[0m\n\u001b[1;32m     28\u001b[0m       \u001b[0mtrain_acc\u001b[0m \u001b[0;34m+=\u001b[0m \u001b[0;34m(\u001b[0m\u001b[0moutputs\u001b[0m\u001b[0;34m.\u001b[0m\u001b[0mmax\u001b[0m\u001b[0;34m(\u001b[0m\u001b[0;36m1\u001b[0m\u001b[0;34m)\u001b[0m\u001b[0;34m[\u001b[0m\u001b[0;36m1\u001b[0m\u001b[0;34m]\u001b[0m \u001b[0;34m==\u001b[0m \u001b[0mlabels\u001b[0m\u001b[0;34m)\u001b[0m\u001b[0;34m.\u001b[0m\u001b[0msum\u001b[0m\u001b[0;34m(\u001b[0m\u001b[0;34m)\u001b[0m\u001b[0;34m.\u001b[0m\u001b[0mitem\u001b[0m\u001b[0;34m(\u001b[0m\u001b[0;34m)\u001b[0m\u001b[0;34m\u001b[0m\u001b[0;34m\u001b[0m\u001b[0m\n\u001b[1;32m     29\u001b[0m       \u001b[0mloss\u001b[0m\u001b[0;34m.\u001b[0m\u001b[0mbackward\u001b[0m\u001b[0;34m(\u001b[0m\u001b[0;34m)\u001b[0m\u001b[0;34m\u001b[0m\u001b[0;34m\u001b[0m\u001b[0m\n\u001b[0;32m---> 30\u001b[0;31m       \u001b[0moptimizer\u001b[0m\u001b[0;34m.\u001b[0m\u001b[0mstep\u001b[0m\u001b[0;34m(\u001b[0m\u001b[0;34m)\u001b[0m\u001b[0;34m\u001b[0m\u001b[0;34m\u001b[0m\u001b[0m\n\u001b[0m\u001b[1;32m     31\u001b[0m \u001b[0;34m\u001b[0m\u001b[0m\n\u001b[1;32m     32\u001b[0m     \u001b[0mavg_train_loss\u001b[0m \u001b[0;34m=\u001b[0m \u001b[0mtrain_loss\u001b[0m \u001b[0;34m/\u001b[0m \u001b[0mlen\u001b[0m\u001b[0;34m(\u001b[0m\u001b[0mtrain_loader\u001b[0m\u001b[0;34m.\u001b[0m\u001b[0mdataset\u001b[0m\u001b[0;34m)\u001b[0m\u001b[0;34m\u001b[0m\u001b[0;34m\u001b[0m\u001b[0m\n",
            "\u001b[0;32m/usr/local/lib/python3.7/dist-packages/torch/optim/optimizer.py\u001b[0m in \u001b[0;36mwrapper\u001b[0;34m(*args, **kwargs)\u001b[0m\n\u001b[1;32m     87\u001b[0m                 \u001b[0mprofile_name\u001b[0m \u001b[0;34m=\u001b[0m \u001b[0;34m\"Optimizer.step#{}.step\"\u001b[0m\u001b[0;34m.\u001b[0m\u001b[0mformat\u001b[0m\u001b[0;34m(\u001b[0m\u001b[0mobj\u001b[0m\u001b[0;34m.\u001b[0m\u001b[0m__class__\u001b[0m\u001b[0;34m.\u001b[0m\u001b[0m__name__\u001b[0m\u001b[0;34m)\u001b[0m\u001b[0;34m\u001b[0m\u001b[0;34m\u001b[0m\u001b[0m\n\u001b[1;32m     88\u001b[0m                 \u001b[0;32mwith\u001b[0m \u001b[0mtorch\u001b[0m\u001b[0;34m.\u001b[0m\u001b[0mautograd\u001b[0m\u001b[0;34m.\u001b[0m\u001b[0mprofiler\u001b[0m\u001b[0;34m.\u001b[0m\u001b[0mrecord_function\u001b[0m\u001b[0;34m(\u001b[0m\u001b[0mprofile_name\u001b[0m\u001b[0;34m)\u001b[0m\u001b[0;34m:\u001b[0m\u001b[0;34m\u001b[0m\u001b[0;34m\u001b[0m\u001b[0m\n\u001b[0;32m---> 89\u001b[0;31m                     \u001b[0;32mreturn\u001b[0m \u001b[0mfunc\u001b[0m\u001b[0;34m(\u001b[0m\u001b[0;34m*\u001b[0m\u001b[0margs\u001b[0m\u001b[0;34m,\u001b[0m \u001b[0;34m**\u001b[0m\u001b[0mkwargs\u001b[0m\u001b[0;34m)\u001b[0m\u001b[0;34m\u001b[0m\u001b[0;34m\u001b[0m\u001b[0m\n\u001b[0m\u001b[1;32m     90\u001b[0m             \u001b[0;32mreturn\u001b[0m \u001b[0mwrapper\u001b[0m\u001b[0;34m\u001b[0m\u001b[0;34m\u001b[0m\u001b[0m\n\u001b[1;32m     91\u001b[0m \u001b[0;34m\u001b[0m\u001b[0m\n",
            "\u001b[0;32m/usr/local/lib/python3.7/dist-packages/torch/autograd/grad_mode.py\u001b[0m in \u001b[0;36mdecorate_context\u001b[0;34m(*args, **kwargs)\u001b[0m\n\u001b[1;32m     25\u001b[0m         \u001b[0;32mdef\u001b[0m \u001b[0mdecorate_context\u001b[0m\u001b[0;34m(\u001b[0m\u001b[0;34m*\u001b[0m\u001b[0margs\u001b[0m\u001b[0;34m,\u001b[0m \u001b[0;34m**\u001b[0m\u001b[0mkwargs\u001b[0m\u001b[0;34m)\u001b[0m\u001b[0;34m:\u001b[0m\u001b[0;34m\u001b[0m\u001b[0;34m\u001b[0m\u001b[0m\n\u001b[1;32m     26\u001b[0m             \u001b[0;32mwith\u001b[0m \u001b[0mself\u001b[0m\u001b[0;34m.\u001b[0m\u001b[0m__class__\u001b[0m\u001b[0;34m(\u001b[0m\u001b[0;34m)\u001b[0m\u001b[0;34m:\u001b[0m\u001b[0;34m\u001b[0m\u001b[0;34m\u001b[0m\u001b[0m\n\u001b[0;32m---> 27\u001b[0;31m                 \u001b[0;32mreturn\u001b[0m \u001b[0mfunc\u001b[0m\u001b[0;34m(\u001b[0m\u001b[0;34m*\u001b[0m\u001b[0margs\u001b[0m\u001b[0;34m,\u001b[0m \u001b[0;34m**\u001b[0m\u001b[0mkwargs\u001b[0m\u001b[0;34m)\u001b[0m\u001b[0;34m\u001b[0m\u001b[0;34m\u001b[0m\u001b[0m\n\u001b[0m\u001b[1;32m     28\u001b[0m         \u001b[0;32mreturn\u001b[0m \u001b[0mcast\u001b[0m\u001b[0;34m(\u001b[0m\u001b[0mF\u001b[0m\u001b[0;34m,\u001b[0m \u001b[0mdecorate_context\u001b[0m\u001b[0;34m)\u001b[0m\u001b[0;34m\u001b[0m\u001b[0;34m\u001b[0m\u001b[0m\n\u001b[1;32m     29\u001b[0m \u001b[0;34m\u001b[0m\u001b[0m\n",
            "\u001b[0;32m/usr/local/lib/python3.7/dist-packages/torch/optim/adam.py\u001b[0m in \u001b[0;36mstep\u001b[0;34m(self, closure)\u001b[0m\n\u001b[1;32m    117\u001b[0m                    \u001b[0mgroup\u001b[0m\u001b[0;34m[\u001b[0m\u001b[0;34m'lr'\u001b[0m\u001b[0;34m]\u001b[0m\u001b[0;34m,\u001b[0m\u001b[0;34m\u001b[0m\u001b[0;34m\u001b[0m\u001b[0m\n\u001b[1;32m    118\u001b[0m                    \u001b[0mgroup\u001b[0m\u001b[0;34m[\u001b[0m\u001b[0;34m'weight_decay'\u001b[0m\u001b[0;34m]\u001b[0m\u001b[0;34m,\u001b[0m\u001b[0;34m\u001b[0m\u001b[0;34m\u001b[0m\u001b[0m\n\u001b[0;32m--> 119\u001b[0;31m                    group['eps'])\n\u001b[0m\u001b[1;32m    120\u001b[0m         \u001b[0;32mreturn\u001b[0m \u001b[0mloss\u001b[0m\u001b[0;34m\u001b[0m\u001b[0;34m\u001b[0m\u001b[0m\n",
            "\u001b[0;32m/usr/local/lib/python3.7/dist-packages/torch/optim/_functional.py\u001b[0m in \u001b[0;36madam\u001b[0;34m(params, grads, exp_avgs, exp_avg_sqs, max_exp_avg_sqs, state_steps, amsgrad, beta1, beta2, lr, weight_decay, eps)\u001b[0m\n\u001b[1;32m     90\u001b[0m             \u001b[0mdenom\u001b[0m \u001b[0;34m=\u001b[0m \u001b[0;34m(\u001b[0m\u001b[0mmax_exp_avg_sqs\u001b[0m\u001b[0;34m[\u001b[0m\u001b[0mi\u001b[0m\u001b[0;34m]\u001b[0m\u001b[0;34m.\u001b[0m\u001b[0msqrt\u001b[0m\u001b[0;34m(\u001b[0m\u001b[0;34m)\u001b[0m \u001b[0;34m/\u001b[0m \u001b[0mmath\u001b[0m\u001b[0;34m.\u001b[0m\u001b[0msqrt\u001b[0m\u001b[0;34m(\u001b[0m\u001b[0mbias_correction2\u001b[0m\u001b[0;34m)\u001b[0m\u001b[0;34m)\u001b[0m\u001b[0;34m.\u001b[0m\u001b[0madd_\u001b[0m\u001b[0;34m(\u001b[0m\u001b[0meps\u001b[0m\u001b[0;34m)\u001b[0m\u001b[0;34m\u001b[0m\u001b[0;34m\u001b[0m\u001b[0m\n\u001b[1;32m     91\u001b[0m         \u001b[0;32melse\u001b[0m\u001b[0;34m:\u001b[0m\u001b[0;34m\u001b[0m\u001b[0;34m\u001b[0m\u001b[0m\n\u001b[0;32m---> 92\u001b[0;31m             \u001b[0mdenom\u001b[0m \u001b[0;34m=\u001b[0m \u001b[0;34m(\u001b[0m\u001b[0mexp_avg_sq\u001b[0m\u001b[0;34m.\u001b[0m\u001b[0msqrt\u001b[0m\u001b[0;34m(\u001b[0m\u001b[0;34m)\u001b[0m \u001b[0;34m/\u001b[0m \u001b[0mmath\u001b[0m\u001b[0;34m.\u001b[0m\u001b[0msqrt\u001b[0m\u001b[0;34m(\u001b[0m\u001b[0mbias_correction2\u001b[0m\u001b[0;34m)\u001b[0m\u001b[0;34m)\u001b[0m\u001b[0;34m.\u001b[0m\u001b[0madd_\u001b[0m\u001b[0;34m(\u001b[0m\u001b[0meps\u001b[0m\u001b[0;34m)\u001b[0m\u001b[0;34m\u001b[0m\u001b[0;34m\u001b[0m\u001b[0m\n\u001b[0m\u001b[1;32m     93\u001b[0m \u001b[0;34m\u001b[0m\u001b[0m\n\u001b[1;32m     94\u001b[0m         \u001b[0mstep_size\u001b[0m \u001b[0;34m=\u001b[0m \u001b[0mlr\u001b[0m \u001b[0;34m/\u001b[0m \u001b[0mbias_correction1\u001b[0m\u001b[0;34m\u001b[0m\u001b[0;34m\u001b[0m\u001b[0m\n",
            "\u001b[0;31mKeyboardInterrupt\u001b[0m: "
          ]
        }
      ]
    },
    {
      "cell_type": "markdown",
      "metadata": {
        "id": "FxY5pkAfGVsR"
      },
      "source": [
        "# lossを可視化"
      ]
    },
    {
      "cell_type": "code",
      "metadata": {
        "id": "YbpSI9EAAu91"
      },
      "source": [
        "\n",
        "import matplotlib.pyplot as plt\n",
        "\n",
        "plt.figure(figsize=(8,6))\n",
        "plt.plot(train_loss_list,label='train', lw=3, c='b')\n",
        "plt.plot(val_loss_list,label='test',lw=3,c = 'r')\n",
        "plt.xlabel('Epoch')\n",
        "plt.ylabel('Loss')\n",
        "plt.title('ResNet')\n",
        "plt.xticks(size=14)\n",
        "plt.yticks(size=14)\n",
        "plt.grid(lw=2)\n",
        "plt.legend(fontsize=14)\n",
        "plt.show()"
      ],
      "execution_count": null,
      "outputs": []
    },
    {
      "cell_type": "markdown",
      "metadata": {
        "id": "64QgL_lsGdC1"
      },
      "source": [
        "# accuracyを可視化"
      ]
    },
    {
      "cell_type": "code",
      "metadata": {
        "colab": {
          "base_uri": "https://localhost:8080/",
          "height": 408
        },
        "id": "df4QdKRYIhY5",
        "outputId": "035c7ce7-aed4-4ce7-d29e-dd3a006028f1"
      },
      "source": [
        "plt.figure(figsize=(8,6))\n",
        "plt.plot(train_acc_list,label='train', lw=3, c='b')\n",
        "plt.plot(val_acc_list,label='test',lw=3,c = 'r')\n",
        "plt.xlabel('Epoch')\n",
        "plt.ylabel('accuracy')\n",
        "plt.title('ResNet')\n",
        "plt.xticks(size=14)\n",
        "plt.yticks(size=14)\n",
        "plt.grid(lw=2)\n",
        "plt.legend(fontsize=14)\n",
        "plt.show()"
      ],
      "execution_count": null,
      "outputs": [
        {
          "output_type": "display_data",
          "data": {
            "image/png": "[encoded data removed]",
            "text/plain": [
              "<Figure size 576x432 with 1 Axes>"
            ]
          },
          "metadata": {
            "tags": [],
            "needs_background": "light"
          }
        }
      ]
    },
    {
      "cell_type": "code",
      "metadata": {
        "id": "dZXUC7-uJ6hQ"
      },
      "source": [
        ""
      ],
      "execution_count": null,
      "outputs": []
    }
  ]
}