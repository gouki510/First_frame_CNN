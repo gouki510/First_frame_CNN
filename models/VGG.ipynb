{
  "nbformat": 4,
  "nbformat_minor": 0,
  "metadata": {
    "colab": {
      "name": "VGG.ipynb",
      "provenance": []
    },
    "kernelspec": {
      "name": "python3",
      "display_name": "Python 3"
    },
    "language_info": {
      "name": "python"
    },
    "accelerator": "GPU"
  },
  "cells": [
    {
      "cell_type": "code",
      "metadata": {
        "colab": {
          "base_uri": "https://localhost:8080/"
        },
        "id": "E982YOvqxF0F",
        "outputId": "28a066f3-340a-472e-8a7c-1e5f1a2e7530"
      },
      "source": [
        "from google.colab import drive\n",
        "drive.mount('/content/drive')"
      ],
      "execution_count": null,
      "outputs": [
        {
          "output_type": "stream",
          "text": [
            "Mounted at /content/drive\n"
          ],
          "name": "stdout"
        }
      ]
    },
    {
      "cell_type": "code",
      "metadata": {
        "id": "5dYQn2RDxER-"
      },
      "source": [
        "import os\n",
        "import numpy as np\n",
        "import matplotlib.pyplot as plt\n",
        "\n",
        "import torch\n",
        "import torch.nn as nn\n",
        "import torch.nn.functional as F\n",
        "import torch.optim as optim\n",
        "\n",
        "import torchvision\n",
        "from torchvision import models"
      ],
      "execution_count": null,
      "outputs": []
    },
    {
      "cell_type": "code",
      "metadata": {
        "id": "9QjRBfxdwmNT"
      },
      "source": [
        "class myVGG(nn.Module):\n",
        "\n",
        "    def __init__(self):\n",
        "        super(myVGG, self).__init__()\n",
        "\n",
        "        self.conv01 = nn.Conv2d(3, 64, 3)\n",
        "        self.conv02 = nn.Conv2d(64, 64, 3)\n",
        "        self.pool1 = nn.MaxPool2d(2, 2)\n",
        "\n",
        "        self.conv03 = nn.Conv2d(64, 128, 3)\n",
        "        self.conv04 = nn.Conv2d(128, 128, 3)\n",
        "        self.pool2 = nn.MaxPool2d(2, 2)\n",
        "\n",
        "        self.conv05 = nn.Conv2d(128, 256, 3)\n",
        "        self.conv06 = nn.Conv2d(256, 256, 3)\n",
        "        self.conv07 = nn.Conv2d(256, 256, 3)\n",
        "        self.pool3 = nn.MaxPool2d(2, 2)\n",
        "\n",
        "        self.conv08 = nn.Conv2d(256, 512, 3)\n",
        "        self.conv09 = nn.Conv2d(512, 512, 3)\n",
        "        self.conv10 = nn.Conv2d(512, 512, 3)\n",
        "        self.pool4 = nn.MaxPool2d(2, 2)\n",
        "\n",
        "        self.conv11 = nn.Conv2d(512, 512, 3)\n",
        "        self.conv12 = nn.Conv2d(512, 512, 3)\n",
        "        self.conv13 = nn.Conv2d(512, 512, 3)\n",
        "        self.pool5 = nn.MaxPool2d(2, 2)\n",
        "\n",
        "        self.avepool1 = nn.AdaptiveAvgPool2d((7, 7))\n",
        "\n",
        "        self.fc1 = nn.Linear(512 * 7 * 7, 4096)\n",
        "        self.fc2 = nn.Linear(4096, 4096)\n",
        "        self.fc3 = nn.Linear(4096, 4)\n",
        "\n",
        "        self.dropout1 = nn.Dropout(0.5)\n",
        "        self.dropout2 = nn.Dropout(0.5)\n",
        "\n",
        "\n",
        "\n",
        "    def forward(self, x):\n",
        "        x = F.relu(self.conv01(x))\n",
        "        x = F.relu(self.conv02(x))\n",
        "        x = self.pool1(x)\n",
        "\n",
        "        x = F.relu(self.conv03(x))\n",
        "        x = F.relu(self.conv04(x))\n",
        "        x = self.pool2(x)\n",
        "\n",
        "        x = F.relu(self.conv05(x))\n",
        "        x = F.relu(self.conv06(x))\n",
        "        x = F.relu(self.conv07(x))\n",
        "        x = self.pool3(x)\n",
        "\n",
        "        x = F.relu(self.conv08(x))\n",
        "        x = F.relu(self.conv09(x))\n",
        "        x = F.relu(self.conv10(x))\n",
        "        x = self.pool4(x)\n",
        "\n",
        "        x = F.relu(self.conv11(x))\n",
        "        x = F.relu(self.conv12(x))\n",
        "        x = F.relu(self.conv13(x))\n",
        "        x = self.pool5(x)\n",
        "\n",
        "        x = self.avepool1(x)\n",
        "\n",
        "        # 行列をベクトルに変換\n",
        "        x = x.view(-1, 512 * 7 * 7)\n",
        "        \n",
        "        x = F.relu(self.fc1(x))\n",
        "        x = self.dropout1(x)\n",
        "        x = F.relu(self.fc2(x))\n",
        "        x = self.dropout2(x)\n",
        "        x = self.fc3(x)\n",
        "\n",
        "        return x"
      ],
      "execution_count": null,
      "outputs": []
    },
    {
      "cell_type": "code",
      "metadata": {
        "id": "EK36xYGOxVt0"
      },
      "source": [
        "transform_train = torchvision.transforms.Compose([\n",
        "     torchvision.transforms.CenterCrop(224),\n",
        "     torchvision.transforms.ToTensor(),\n",
        "     torchvision.transforms.Normalize((0.5, 0.5, 0.5), (0.5, 0.5, 0.5))\n",
        "])\n",
        "\n",
        "transform_valid = torchvision.transforms.Compose([\n",
        "     torchvision.transforms.CenterCrop(224),\n",
        "     torchvision.transforms.ToTensor(),\n",
        "     torchvision.transforms.Normalize((0.5, 0.5, 0.5), (0.5, 0.5, 0.5))\n",
        "])\n",
        "\n",
        "\n",
        "train_data_dir = 'drive/MyDrive/sprit_data/train'\n",
        "valid_data_dir = 'drive/MyDrive/sprit_data/validation'\n",
        "\n",
        "# training set\n",
        "trainset = torchvision.datasets.ImageFolder(train_data_dir, transform=transform_train)\n",
        "trainloader = torch.utils.data.DataLoader(trainset, batch_size=16, shuffle=True)\n",
        "\n",
        "# validation set\n",
        "validset = torchvision.datasets.ImageFolder(valid_data_dir, transform=transform_valid)\n",
        "validloader = torch.utils.data.DataLoader(validset, batch_size=16, shuffle=False)"
      ],
      "execution_count": null,
      "outputs": []
    },
    {
      "cell_type": "code",
      "metadata": {
        "colab": {
          "base_uri": "https://localhost:8080/"
        },
        "id": "idUWXkvExt17",
        "outputId": "128b4eb8-160e-407c-b4e0-6807d329eade"
      },
      "source": [
        "net = myVGG()\n",
        "device = torch.device(\"cuda:0\" if torch.cuda.is_available() else \"cpu\")\n",
        "net.to(device)\n",
        "net.train()\n"
      ],
      "execution_count": null,
      "outputs": [
        {
          "output_type": "execute_result",
          "data": {
            "text/plain": [
              "myVGG(\n",
              "  (conv01): Conv2d(3, 64, kernel_size=(3, 3), stride=(1, 1))\n",
              "  (conv02): Conv2d(64, 64, kernel_size=(3, 3), stride=(1, 1))\n",
              "  (pool1): MaxPool2d(kernel_size=2, stride=2, padding=0, dilation=1, ceil_mode=False)\n",
              "  (conv03): Conv2d(64, 128, kernel_size=(3, 3), stride=(1, 1))\n",
              "  (conv04): Conv2d(128, 128, kernel_size=(3, 3), stride=(1, 1))\n",
              "  (pool2): MaxPool2d(kernel_size=2, stride=2, padding=0, dilation=1, ceil_mode=False)\n",
              "  (conv05): Conv2d(128, 256, kernel_size=(3, 3), stride=(1, 1))\n",
              "  (conv06): Conv2d(256, 256, kernel_size=(3, 3), stride=(1, 1))\n",
              "  (conv07): Conv2d(256, 256, kernel_size=(3, 3), stride=(1, 1))\n",
              "  (pool3): MaxPool2d(kernel_size=2, stride=2, padding=0, dilation=1, ceil_mode=False)\n",
              "  (conv08): Conv2d(256, 512, kernel_size=(3, 3), stride=(1, 1))\n",
              "  (conv09): Conv2d(512, 512, kernel_size=(3, 3), stride=(1, 1))\n",
              "  (conv10): Conv2d(512, 512, kernel_size=(3, 3), stride=(1, 1))\n",
              "  (pool4): MaxPool2d(kernel_size=2, stride=2, padding=0, dilation=1, ceil_mode=False)\n",
              "  (conv11): Conv2d(512, 512, kernel_size=(3, 3), stride=(1, 1))\n",
              "  (conv12): Conv2d(512, 512, kernel_size=(3, 3), stride=(1, 1))\n",
              "  (conv13): Conv2d(512, 512, kernel_size=(3, 3), stride=(1, 1))\n",
              "  (pool5): MaxPool2d(kernel_size=2, stride=2, padding=0, dilation=1, ceil_mode=False)\n",
              "  (avepool1): AdaptiveAvgPool2d(output_size=(7, 7))\n",
              "  (fc1): Linear(in_features=25088, out_features=4096, bias=True)\n",
              "  (fc2): Linear(in_features=4096, out_features=4096, bias=True)\n",
              "  (fc3): Linear(in_features=4096, out_features=4, bias=True)\n",
              "  (dropout1): Dropout(p=0.5, inplace=False)\n",
              "  (dropout2): Dropout(p=0.5, inplace=False)\n",
              ")"
            ]
          },
          "metadata": {
            "tags": []
          },
          "execution_count": 9
        }
      ]
    },
    {
      "cell_type": "code",
      "metadata": {
        "colab": {
          "base_uri": "https://localhost:8080/",
          "height": 236
        },
        "id": "txAwCLKDxk3x",
        "outputId": "973eca7e-75cd-4c35-cbd3-dcf46d12d1ff"
      },
      "source": [
        "criterion = nn.CrossEntropyLoss()\n",
        "optimizer = optim.SGD(net.parameters(), lr=0.00001, momenton=0.9)\n",
        "scheduler = optim.lr_scheduler.StepLR(optimizer, step_size=2, gamma=0.1)\n",
        "# 同じデータを 50 回学習します\n",
        "for epoch in range(32):\n",
        "\n",
        "  # 今回の学習効果を保存するための変数\n",
        "  running_loss = 0.0\n",
        "\n",
        "  for data in trainloader:\n",
        "    # データ整理\n",
        "    inputs, labels = data\n",
        "    inputs = inputs.to(device)\n",
        "    labels = labels.to(device)\n",
        "\n",
        "    # 前回の勾配情報をリセット\n",
        "    optimizer.zero_grad()\n",
        "\n",
        "    # 予測\n",
        "    outputs = net(inputs)\n",
        "\n",
        "    # 予測結果と教師ラベルを比べて損失を計算\n",
        "    loss = criterion(outputs, labels)\n",
        "    running_loss += loss.item()\n",
        "\n",
        "    # 損失に基づいてネットワークのパラメーターを更新\n",
        "    loss.backward()\n",
        "    optimizer.step()\n",
        "\n",
        "  # このエポックの学習効果\n",
        "  print(\"Epoch:\",epoch+1)\n",
        "  print('-'*50)\n",
        "  print(running_loss)\n",
        "  scheduler.step()"
      ],
      "execution_count": null,
      "outputs": [
        {
          "output_type": "error",
          "ename": "KeyboardInterrupt",
          "evalue": "ignored",
          "traceback": [
            "\u001b[0;31m---------------------------------------------------------------------------\u001b[0m",
            "\u001b[0;31mKeyboardInterrupt\u001b[0m                         Traceback (most recent call last)",
            "\u001b[0;32m<ipython-input-16-4252b7f6ef1b>\u001b[0m in \u001b[0;36m<module>\u001b[0;34m()\u001b[0m\n\u001b[1;32m     22\u001b[0m     \u001b[0;31m# 予測結果と教師ラベルを比べて損失を計算\u001b[0m\u001b[0;34m\u001b[0m\u001b[0;34m\u001b[0m\u001b[0;34m\u001b[0m\u001b[0m\n\u001b[1;32m     23\u001b[0m     \u001b[0mloss\u001b[0m \u001b[0;34m=\u001b[0m \u001b[0mcriterion\u001b[0m\u001b[0;34m(\u001b[0m\u001b[0moutputs\u001b[0m\u001b[0;34m,\u001b[0m \u001b[0mlabels\u001b[0m\u001b[0;34m)\u001b[0m\u001b[0;34m\u001b[0m\u001b[0;34m\u001b[0m\u001b[0m\n\u001b[0;32m---> 24\u001b[0;31m     \u001b[0mrunning_loss\u001b[0m \u001b[0;34m+=\u001b[0m \u001b[0mloss\u001b[0m\u001b[0;34m.\u001b[0m\u001b[0mitem\u001b[0m\u001b[0;34m(\u001b[0m\u001b[0;34m)\u001b[0m\u001b[0;34m\u001b[0m\u001b[0;34m\u001b[0m\u001b[0m\n\u001b[0m\u001b[1;32m     25\u001b[0m \u001b[0;34m\u001b[0m\u001b[0m\n\u001b[1;32m     26\u001b[0m     \u001b[0;31m# 損失に基づいてネットワークのパラメーターを更新\u001b[0m\u001b[0;34m\u001b[0m\u001b[0;34m\u001b[0m\u001b[0;34m\u001b[0m\u001b[0m\n",
            "\u001b[0;31mKeyboardInterrupt\u001b[0m: "
          ]
        }
      ]
    },
    {
      "cell_type": "code",
      "metadata": {
        "colab": {
          "base_uri": "https://localhost:8080/"
        },
        "id": "dC_wUdibzBJ_",
        "outputId": "13cc209c-7699-4658-de07-aa642844a527"
      },
      "source": [
        "# モデルを評価モードにする\n",
        "net.eval()\n",
        "\n",
        "# 全検証データの正しく分類できた枚数を記録\n",
        "n_correct = 0\n",
        "n_total = 0\n",
        "\n",
        "for data in validloader:\n",
        "    inputs, labels = data\n",
        "    inputs = inputs.to(device)\n",
        "    labels = labels.to(device)\n",
        "\n",
        "    # 予測\n",
        "    outputs = net(inputs)\n",
        "\n",
        "    # 予測結果をクラス番号に変換\n",
        "    _, predicted = torch.max(outputs.data, 1)\n",
        "    \n",
        "    # 予測結果と実際のラベルを比較して、正しく予測できた枚数を計算\n",
        "    res = (predicted == labels)\n",
        "    res = res.sum().item()\n",
        "    \n",
        "\n",
        "    # 今までに正しく予測できた枚数に計上\n",
        "    n_correct = n_correct + res\n",
        "    n_total = n_total + len(labels)\n",
        "\n",
        "\n",
        "print(n_correct / n_total)\n"
      ],
      "execution_count": null,
      "outputs": [
        {
          "output_type": "stream",
          "text": [
            "0.39655172413793105\n"
          ],
          "name": "stdout"
        }
      ]
    },
    {
      "cell_type": "code",
      "metadata": {
        "id": "hzl004KM2FSA"
      },
      "source": [
        ""
      ],
      "execution_count": null,
      "outputs": []
    }
  ]
}