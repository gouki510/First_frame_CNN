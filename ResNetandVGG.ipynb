{
  "nbformat": 4,
  "nbformat_minor": 0,
  "metadata": {
    "colab": {
      "name": "ResNetandVGG.ipynb",
      "provenance": []
    },
    "kernelspec": {
      "name": "python3",
      "display_name": "Python 3"
    },
    "language_info": {
      "name": "python"
    },
    "accelerator": "GPU"
  },
  "cells": [
    {
      "cell_type": "code",
      "metadata": {
        "colab": {
          "base_uri": "https://localhost:8080/"
        },
        "id": "UlJ8Sb648xUu",
        "outputId": "ef882aaa-bff5-4faf-f422-54858d876f5a"
      },
      "source": [
        "from google.colab import drive\n",
        "drive.mount('/content/drive')"
      ],
      "execution_count": null,
      "outputs": [
        {
          "output_type": "stream",
          "text": [
            "Drive already mounted at /content/drive; to attempt to forcibly remount, call drive.mount(\"/content/drive\", force_remount=True).\n"
          ],
          "name": "stdout"
        }
      ]
    },
    {
      "cell_type": "code",
      "metadata": {
        "id": "LOv6EEGZ888A"
      },
      "source": [
        "import os\n",
        "import glob\n",
        "import re \n",
        "import pandas as pd\n",
        "from PIL import Image\n",
        "from torch.utils.data import Dataset\n",
        "import pandas as pd\n",
        "import os\n",
        "import torch\n",
        "import torchvision.transforms as transforms\n",
        "from torchvision import models\n",
        "\n",
        "import torch.nn as nn\n",
        "import torch.optim as optim\n",
        "import torchvision\n",
        "from sklearn.metrics import classification_report\n",
        "from sklearn import preprocessing\n",
        "import datetime"
      ],
      "execution_count": null,
      "outputs": []
    },
    {
      "cell_type": "markdown",
      "metadata": {
        "id": "-modzGhJHK_O"
      },
      "source": [
        "# data load\n"
      ]
    },
    {
      "cell_type": "code",
      "metadata": {
        "id": "BWblpSBZ9PvS"
      },
      "source": [
        "transform_train = transforms.Compose([\n",
        "     transforms.CenterCrop(224),\n",
        "     transforms.ToTensor(),\n",
        "     transforms.Normalize([0.485, 0.456, 0.406],[0.229, 0.224, 0.225])\n",
        "])\n",
        "\n",
        "transform_valid = transforms.Compose([\n",
        "     transforms.CenterCrop(224),\n",
        "     transforms.ToTensor(),\n",
        "     transforms.Normalize((0.485, 0.456, 0.406), (0.229, 0.224, 0.225))\n",
        "])\n",
        "\n",
        "\n",
        "train_data_dir = 'drive/MyDrive/sprit_data/train'\n",
        "valid_data_dir = 'drive/MyDrive/sprit_data/validation'\n",
        "\n",
        "# training set\n",
        "trainset = torchvision.datasets.ImageFolder(train_data_dir, transform=transform_train)\n",
        "train_loader = torch.utils.data.DataLoader(trainset, batch_size=32, shuffle=True)\n",
        "\n",
        "# validation set\n",
        "validset = torchvision.datasets.ImageFolder(valid_data_dir, transform=transform_valid)\n",
        "valid_loader = torch.utils.data.DataLoader(validset, batch_size=32, shuffle=False)"
      ],
      "execution_count": null,
      "outputs": []
    },
    {
      "cell_type": "markdown",
      "metadata": {
        "id": "cCliJ7lkHezd"
      },
      "source": [
        "# Network 定義"
      ]
    },
    {
      "cell_type": "code",
      "metadata": {
        "id": "JdpVGbcF-Dlb"
      },
      "source": [
        "#net = models.vgg16(pretrained=False)\n",
        "net = models.Resnet50(pretrained=False)\n",
        "#4class分類\n",
        "net.fc = nn.Linear(512,4)"
      ],
      "execution_count": null,
      "outputs": []
    },
    {
      "cell_type": "code",
      "metadata": {
        "colab": {
          "base_uri": "https://localhost:8080/"
        },
        "id": "FuCxHqGn-QU9",
        "outputId": "ebd36f91-ca2e-4ba3-d020-b138c062aec9"
      },
      "source": [
        "device=torch.device('cuda')\n",
        "net.cuda()"
      ],
      "execution_count": null,
      "outputs": [
        {
          "output_type": "execute_result",
          "data": {
            "text/plain": [
              "VGG(\n",
              "  (features): Sequential(\n",
              "    (0): Conv2d(3, 64, kernel_size=(3, 3), stride=(1, 1), padding=(1, 1))\n",
              "    (1): ReLU(inplace=True)\n",
              "    (2): Conv2d(64, 64, kernel_size=(3, 3), stride=(1, 1), padding=(1, 1))\n",
              "    (3): ReLU(inplace=True)\n",
              "    (4): MaxPool2d(kernel_size=2, stride=2, padding=0, dilation=1, ceil_mode=False)\n",
              "    (5): Conv2d(64, 128, kernel_size=(3, 3), stride=(1, 1), padding=(1, 1))\n",
              "    (6): ReLU(inplace=True)\n",
              "    (7): Conv2d(128, 128, kernel_size=(3, 3), stride=(1, 1), padding=(1, 1))\n",
              "    (8): ReLU(inplace=True)\n",
              "    (9): MaxPool2d(kernel_size=2, stride=2, padding=0, dilation=1, ceil_mode=False)\n",
              "    (10): Conv2d(128, 256, kernel_size=(3, 3), stride=(1, 1), padding=(1, 1))\n",
              "    (11): ReLU(inplace=True)\n",
              "    (12): Conv2d(256, 256, kernel_size=(3, 3), stride=(1, 1), padding=(1, 1))\n",
              "    (13): ReLU(inplace=True)\n",
              "    (14): Conv2d(256, 256, kernel_size=(3, 3), stride=(1, 1), padding=(1, 1))\n",
              "    (15): ReLU(inplace=True)\n",
              "    (16): MaxPool2d(kernel_size=2, stride=2, padding=0, dilation=1, ceil_mode=False)\n",
              "    (17): Conv2d(256, 512, kernel_size=(3, 3), stride=(1, 1), padding=(1, 1))\n",
              "    (18): ReLU(inplace=True)\n",
              "    (19): Conv2d(512, 512, kernel_size=(3, 3), stride=(1, 1), padding=(1, 1))\n",
              "    (20): ReLU(inplace=True)\n",
              "    (21): Conv2d(512, 512, kernel_size=(3, 3), stride=(1, 1), padding=(1, 1))\n",
              "    (22): ReLU(inplace=True)\n",
              "    (23): MaxPool2d(kernel_size=2, stride=2, padding=0, dilation=1, ceil_mode=False)\n",
              "    (24): Conv2d(512, 512, kernel_size=(3, 3), stride=(1, 1), padding=(1, 1))\n",
              "    (25): ReLU(inplace=True)\n",
              "    (26): Conv2d(512, 512, kernel_size=(3, 3), stride=(1, 1), padding=(1, 1))\n",
              "    (27): ReLU(inplace=True)\n",
              "    (28): Conv2d(512, 512, kernel_size=(3, 3), stride=(1, 1), padding=(1, 1))\n",
              "    (29): ReLU(inplace=True)\n",
              "    (30): MaxPool2d(kernel_size=2, stride=2, padding=0, dilation=1, ceil_mode=False)\n",
              "  )\n",
              "  (avgpool): AdaptiveAvgPool2d(output_size=(7, 7))\n",
              "  (classifier): Sequential(\n",
              "    (0): Linear(in_features=25088, out_features=4096, bias=True)\n",
              "    (1): ReLU(inplace=True)\n",
              "    (2): Dropout(p=0.5, inplace=False)\n",
              "    (3): Linear(in_features=4096, out_features=4096, bias=True)\n",
              "    (4): ReLU(inplace=True)\n",
              "    (5): Dropout(p=0.5, inplace=False)\n",
              "    (6): Linear(in_features=4096, out_features=1000, bias=True)\n",
              "  )\n",
              "  (fc): Linear(in_features=512, out_features=4, bias=True)\n",
              ")"
            ]
          },
          "metadata": {
            "tags": []
          },
          "execution_count": 87
        }
      ]
    },
    {
      "cell_type": "code",
      "metadata": {
        "id": "Hm1qbxOf-Snc"
      },
      "source": [
        "criterion = nn.CrossEntropyLoss()\n",
        "optimizer = optim.SGD(net.parameters(), lr=0.01, momentum=0.9)"
      ],
      "execution_count": null,
      "outputs": []
    },
    {
      "cell_type": "markdown",
      "metadata": {
        "id": "JzCRX6vNHkE8"
      },
      "source": [
        "# 学習"
      ]
    },
    {
      "cell_type": "code",
      "metadata": {
        "colab": {
          "base_uri": "https://localhost:8080/"
        },
        "id": "Fjjcyao--ZNP",
        "outputId": "fe9ef6bd-5d75-4302-d684-7ec3e21438c7"
      },
      "source": [
        "#loss,accuracyを格納\n",
        "train_loss_list = []\n",
        "train_acc_list = []\n",
        "val_loss_list = []\n",
        "val_acc_list = []\n",
        "\n",
        "nb_epoch = 100\n",
        "\n",
        "for epoch in range(nb_epoch):\n",
        "    train_loss = 0\n",
        "    train_acc = 0\n",
        "    val_loss = 0\n",
        "    val_acc = 0\n",
        "\n",
        "    #train\n",
        "    net.train()\n",
        "    for i, (data, labels) in enumerate(train_loader):\n",
        "      \n",
        "      data, labels = data.to(device), labels.to(device)\n",
        "\n",
        "      optimizer.zero_grad()\n",
        "      outputs = net(data)\n",
        "      loss = criterion(outputs, labels)\n",
        "      train_loss += loss.item()\n",
        "      train_acc += (outputs.max(1)[1] == labels).sum().item()\n",
        "      loss.backward()\n",
        "      optimizer.step()\n",
        "\n",
        "    avg_train_loss = train_loss / len(train_loader.dataset)\n",
        "    avg_train_acc = train_acc / len(train_loader.dataset)\n",
        "\n",
        "    train_loss_list.append(avg_train_loss)\n",
        "    train_acc_list.append(avg_train_acc)\n",
        "    print ('Epoch [{}/{}], loss: {loss:.4f} train_loss: {train_loss:.4f}, train_acc: {train_acc:.4f}' \n",
        "                   .format(epoch+1, nb_epoch, i+1, loss=avg_train_loss, train_loss=avg_train_loss, train_acc=avg_train_acc))\n",
        "    #val\n",
        "    net.eval()\n",
        "    with torch.no_grad():\n",
        "     for data, labels in valid_loader:\n",
        "      data = data.to(device)\n",
        "      labels = labels.to(device)\n",
        "      outputs = net(data)\n",
        "      loss = criterion(outputs, labels)\n",
        "      val_loss += loss.item()\n",
        "      val_acc += (outputs.max(1)[1] == labels).sum().item()\n",
        "    avg_val_loss = val_loss / len(valid_loader.dataset)\n",
        "    avg_val_acc = val_acc / len(valid_loader.dataset)\n",
        "\n",
        "    print ('Epoch [{}/{}], loss: {loss:.4f} val_loss: {val_loss:.4f}, val_acc: {val_acc:.4f}' \n",
        "                   .format(epoch+1, nb_epoch, i+1, loss=avg_train_loss, val_loss=avg_val_loss, val_acc=avg_val_acc))\n",
        "    \n",
        "    val_loss_list.append(avg_val_loss)\n",
        "    val_acc_list.append(avg_val_acc)"
      ],
      "execution_count": null,
      "outputs": [
        {
          "output_type": "stream",
          "text": [
            "Epoch [1/32], loss: 0.2220 train_loss: 0.2220, train_acc: 0.2101\n",
            "Epoch [1/32], loss: 0.2220 val_loss: 0.2275, val_acc: 0.2241\n",
            "Epoch [2/32], loss: 0.1949 train_loss: 0.1949, train_acc: 0.1729\n",
            "Epoch [2/32], loss: 0.1949 val_loss: 0.0886, val_acc: 0.1897\n",
            "Epoch [3/32], loss: 0.0671 train_loss: 0.0671, train_acc: 0.2691\n",
            "Epoch [3/32], loss: 0.0671 val_loss: 0.0630, val_acc: 0.3966\n",
            "Epoch [4/32], loss: 0.0498 train_loss: 0.0498, train_acc: 0.3239\n",
            "Epoch [4/32], loss: 0.0498 val_loss: 0.0570, val_acc: 0.3966\n",
            "Epoch [5/32], loss: 0.0466 train_loss: 0.0466, train_acc: 0.3304\n",
            "Epoch [5/32], loss: 0.0466 val_loss: 0.0486, val_acc: 0.3966\n",
            "Epoch [6/32], loss: 0.0458 train_loss: 0.0458, train_acc: 0.3676\n",
            "Epoch [6/32], loss: 0.0458 val_loss: 0.0471, val_acc: 0.3966\n",
            "Epoch [7/32], loss: 0.0457 train_loss: 0.0457, train_acc: 0.3764\n",
            "Epoch [7/32], loss: 0.0457 val_loss: 0.0476, val_acc: 0.3966\n",
            "Epoch [8/32], loss: 0.0468 train_loss: 0.0468, train_acc: 0.3501\n",
            "Epoch [8/32], loss: 0.0468 val_loss: 0.0500, val_acc: 0.3966\n",
            "Epoch [9/32], loss: 0.0461 train_loss: 0.0461, train_acc: 0.3654\n",
            "Epoch [9/32], loss: 0.0461 val_loss: 0.0497, val_acc: 0.3966\n",
            "Epoch [10/32], loss: 0.0461 train_loss: 0.0461, train_acc: 0.3611\n",
            "Epoch [10/32], loss: 0.0461 val_loss: 0.0512, val_acc: 0.3966\n",
            "Epoch [11/32], loss: 0.0466 train_loss: 0.0466, train_acc: 0.3370\n",
            "Epoch [11/32], loss: 0.0466 val_loss: 0.0486, val_acc: 0.3966\n",
            "Epoch [12/32], loss: 0.0461 train_loss: 0.0461, train_acc: 0.3589\n",
            "Epoch [12/32], loss: 0.0461 val_loss: 0.0464, val_acc: 0.4052\n",
            "Epoch [13/32], loss: 0.0454 train_loss: 0.0454, train_acc: 0.3632\n",
            "Epoch [13/32], loss: 0.0454 val_loss: 0.0472, val_acc: 0.3966\n",
            "Epoch [14/32], loss: 0.0441 train_loss: 0.0441, train_acc: 0.3742\n",
            "Epoch [14/32], loss: 0.0441 val_loss: 0.0450, val_acc: 0.4310\n",
            "Epoch [15/32], loss: 0.0442 train_loss: 0.0442, train_acc: 0.3632\n",
            "Epoch [15/32], loss: 0.0442 val_loss: 0.0495, val_acc: 0.3966\n",
            "Epoch [16/32], loss: 0.0429 train_loss: 0.0429, train_acc: 0.4158\n",
            "Epoch [16/32], loss: 0.0429 val_loss: 0.0450, val_acc: 0.4224\n",
            "Epoch [17/32], loss: 0.0415 train_loss: 0.0415, train_acc: 0.4398\n",
            "Epoch [17/32], loss: 0.0415 val_loss: 0.0462, val_acc: 0.4397\n",
            "Epoch [18/32], loss: 0.0405 train_loss: 0.0405, train_acc: 0.4267\n",
            "Epoch [18/32], loss: 0.0405 val_loss: 0.0483, val_acc: 0.4569\n",
            "Epoch [19/32], loss: 0.0399 train_loss: 0.0399, train_acc: 0.4595\n",
            "Epoch [19/32], loss: 0.0399 val_loss: 0.0435, val_acc: 0.4138\n",
            "Epoch [20/32], loss: 0.0377 train_loss: 0.0377, train_acc: 0.5033\n",
            "Epoch [20/32], loss: 0.0377 val_loss: 0.0407, val_acc: 0.4828\n",
            "Epoch [21/32], loss: 0.0379 train_loss: 0.0379, train_acc: 0.5230\n",
            "Epoch [21/32], loss: 0.0379 val_loss: 0.0427, val_acc: 0.4655\n",
            "Epoch [22/32], loss: 0.0397 train_loss: 0.0397, train_acc: 0.4945\n",
            "Epoch [22/32], loss: 0.0397 val_loss: 0.0417, val_acc: 0.4828\n",
            "Epoch [23/32], loss: 0.0367 train_loss: 0.0367, train_acc: 0.5142\n",
            "Epoch [23/32], loss: 0.0367 val_loss: 0.0403, val_acc: 0.4828\n",
            "Epoch [24/32], loss: 0.0424 train_loss: 0.0424, train_acc: 0.4464\n",
            "Epoch [24/32], loss: 0.0424 val_loss: 0.0481, val_acc: 0.4138\n",
            "Epoch [25/32], loss: 0.0419 train_loss: 0.0419, train_acc: 0.4486\n",
            "Epoch [25/32], loss: 0.0419 val_loss: 0.0432, val_acc: 0.5000\n",
            "Epoch [26/32], loss: 0.0400 train_loss: 0.0400, train_acc: 0.4814\n",
            "Epoch [26/32], loss: 0.0400 val_loss: 0.0465, val_acc: 0.4138\n",
            "Epoch [27/32], loss: 0.0419 train_loss: 0.0419, train_acc: 0.4573\n",
            "Epoch [27/32], loss: 0.0419 val_loss: 0.0436, val_acc: 0.4914\n",
            "Epoch [28/32], loss: 0.0385 train_loss: 0.0385, train_acc: 0.5208\n",
            "Epoch [28/32], loss: 0.0385 val_loss: 0.0423, val_acc: 0.4914\n",
            "Epoch [29/32], loss: 0.0355 train_loss: 0.0355, train_acc: 0.5449\n",
            "Epoch [29/32], loss: 0.0355 val_loss: 0.0405, val_acc: 0.5345\n",
            "Epoch [30/32], loss: 0.0349 train_loss: 0.0349, train_acc: 0.5689\n",
            "Epoch [30/32], loss: 0.0349 val_loss: 0.0419, val_acc: 0.5345\n",
            "Epoch [31/32], loss: 0.0335 train_loss: 0.0335, train_acc: 0.5755\n",
            "Epoch [31/32], loss: 0.0335 val_loss: 0.0443, val_acc: 0.5000\n",
            "Epoch [32/32], loss: 0.0301 train_loss: 0.0301, train_acc: 0.6236\n",
            "Epoch [32/32], loss: 0.0301 val_loss: 0.0440, val_acc: 0.5431\n"
          ],
          "name": "stdout"
        }
      ]
    },
    {
      "cell_type": "code",
      "metadata": {
        "colab": {
          "base_uri": "https://localhost:8080/",
          "height": 408
        },
        "id": "YbpSI9EAAu91",
        "outputId": "93cad0a0-3288-4478-a763-96381e4fa0de"
      },
      "source": [
        "import matplotlib.pyplot as plt\n",
        "\n",
        "plt.figure(figsize=(8,6))\n",
        "plt.plot(train_loss_list,label='train', lw=3, c='b')\n",
        "plt.plot(val_loss_list,label='test',lw=3,c = 'r')\n",
        "plt.xlabel('Epoch')\n",
        "plt.ylabel('Loss')\n",
        "plt.title('VGG')\n",
        "plt.xticks(size=14)\n",
        "plt.yticks(size=14)\n",
        "plt.grid(lw=2)\n",
        "plt.legend(fontsize=14)\n",
        "plt.show()"
      ],
      "execution_count": null,
      "outputs": [
        {
          "output_type": "display_data",
          "data": {
            "image/png": "[encoded data removed]",
            "text/plain": [
              "<Figure size 576x432 with 1 Axes>"
            ]
          },
          "metadata": {
            "tags": [],
            "needs_background": "light"
          }
        }
      ]
    },
    {
      "cell_type": "code",
      "metadata": {
        "colab": {
          "base_uri": "https://localhost:8080/",
          "height": 408
        },
        "id": "df4QdKRYIhY5",
        "outputId": "961626d0-b824-476f-b886-2e751e1ec334"
      },
      "source": [
        "plt.figure(figsize=(8,6))\n",
        "plt.plot(train_acc_list,label='train', lw=3, c='b')\n",
        "plt.plot(val_acc_list,label='test',lw=3,c = 'r')\n",
        "plt.xlabel('Epoch')\n",
        "plt.ylabel('accuracy')\n",
        "plt.title('VGG')\n",
        "plt.xticks(size=14)\n",
        "plt.yticks(size=14)\n",
        "plt.grid(lw=2)\n",
        "plt.legend(fontsize=14)\n",
        "plt.show()"
      ],
      "execution_count": null,
      "outputs": [
        {
          "output_type": "display_data",
          "data": {
            "image/png": "[encoded data removed]",
            "text/plain": [
              "<Figure size 576x432 with 1 Axes>"
            ]
          },
          "metadata": {
            "tags": [],
            "needs_background": "light"
          }
        }
      ]
    },
    {
      "cell_type": "code",
      "metadata": {
        "id": "dZXUC7-uJ6hQ"
      },
      "source": [
        ""
      ],
      "execution_count": null,
      "outputs": []
    }
  ]
}